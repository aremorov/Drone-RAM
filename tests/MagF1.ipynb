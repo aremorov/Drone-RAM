{
 "cells": [
  {
   "cell_type": "code",
   "execution_count": 1,
   "id": "eddb6626",
   "metadata": {},
   "outputs": [],
   "source": [
    "import numpy as np\n",
    "from scipy.interpolate import LinearNDInterpolator\n",
    "import matplotlib as mpl\n",
    "import matplotlib.pyplot as plt\n",
    "import os\n",
    "\n",
    "from discretize import TensorMesh\n",
    "from discretize.utils import mkvc\n",
    "from SimPEG.utils import plot2Ddata, model_builder #, surface2ind_topo\n",
    "from SimPEG import maps, utils\n",
    "from SimPEG.potential_fields import magnetics\n",
    "\n",
    "write_output = False\n",
    "\n",
    "import torch\n",
    "# sphinx_gallery_thumbnail_number = 2"
   ]
  },
  {
   "cell_type": "code",
   "execution_count": 2,
   "id": "215028ed",
   "metadata": {},
   "outputs": [],
   "source": [
    "# Define the observation locations as an (N, 3) numpy array or load them.\n",
    "x = np.linspace(-50.0, 50.0, 28)\n",
    "y = np.linspace(-50.0, 50.0, 28)\n",
    "x, y = np.meshgrid(x, y)\n",
    "x, y = mkvc(x.T), mkvc(y.T)\n",
    "\n",
    "z = 10*np.ones(len(x))  # Flight height 10 m above surface.\n",
    "receiver_locations = np.c_[x, y, z]\n",
    "\n",
    "# Define the component(s) of the field we want to simulate as a list of strings.\n",
    "# Here we simulation total magnetic intensity data.\n",
    "components = [\"tmi\"]\n",
    "\n",
    "# Use the observation locations and components to define the receivers. To\n",
    "# simulate data, the receivers must be defined as a list.\n",
    "receiver_list = magnetics.receivers.Point(receiver_locations, components=components)\n",
    "\n",
    "receiver_list = [receiver_list]\n",
    "\n",
    "# Define the inducing field H0 = (intensity [nT], inclination [deg], declination [deg])\n",
    "inclination = 90\n",
    "declination = 0\n",
    "strength = 50000\n",
    "inducing_field = (strength, inclination, declination)\n",
    "\n",
    "source_field = magnetics.sources.SourceField(\n",
    "    receiver_list=receiver_list, parameters=inducing_field\n",
    ")\n",
    "\n",
    "# Define the survey\n",
    "survey = magnetics.survey.Survey(source_field)"
   ]
  },
  {
   "cell_type": "code",
   "execution_count": 3,
   "id": "76bb374c",
   "metadata": {},
   "outputs": [
    {
     "data": {
      "text/plain": [
       "(784,)"
      ]
     },
     "execution_count": 3,
     "metadata": {},
     "output_type": "execute_result"
    }
   ],
   "source": [
    "z.shape"
   ]
  },
  {
   "cell_type": "code",
   "execution_count": 4,
   "id": "6a949b05",
   "metadata": {},
   "outputs": [],
   "source": [
    "dx = 0.5\n",
    "\n",
    "hx = [(20, 1), (dx, 1), (70, 1)] \n",
    "hy = [(100, 1)]\n",
    "hz = [(1, 3)] #buried 2m under\n",
    "mesh = TensorMesh([hx, hy, hz], \"CCN\")"
   ]
  },
  {
   "cell_type": "code",
   "execution_count": 5,
   "id": "c240eaf8",
   "metadata": {},
   "outputs": [
    {
     "name": "stdout",
     "output_type": "stream",
     "text": [
      "<class 'discretize.tensor_mesh.TensorMesh'>\n"
     ]
    },
    {
     "data": {
      "text/plain": [
       "1"
      ]
     },
     "execution_count": 5,
     "metadata": {},
     "output_type": "execute_result"
    }
   ],
   "source": [
    "print(type(mesh))\n",
    "mesh.nCy"
   ]
  },
  {
   "cell_type": "code",
   "execution_count": 6,
   "id": "7ed90453",
   "metadata": {},
   "outputs": [],
   "source": [
    "# Define susceptibility values for each unit in SI\n",
    "background_susceptibility = 0.0001\n",
    "pipe_susceptibility = 1 \n",
    "\n",
    "\n",
    "# Define mapping from model to active cells\n",
    "nC = mesh.nCx * mesh.nCy * mesh.nCz\n",
    "model_map = maps.IdentityMap(nP=nC)  # model is a vlue for each active cell"
   ]
  },
  {
   "cell_type": "code",
   "execution_count": 7,
   "id": "9d2a8d82",
   "metadata": {},
   "outputs": [],
   "source": [
    "# Define model. Models in SimPEG are vector arrays\n",
    "model = background_susceptibility * np.ones(nC)\n",
    "\n",
    "#indices go through x, y, then z, from bottom up\n",
    "xp = 1\n",
    "yp = 0 #np.arange(mesh.nCy) #goes along y direction, covers each y\n",
    "zp = 0\n",
    "\n",
    "pipeIndicies = xp + mesh.nCx * yp + mesh.nCx * mesh.nCy * zp\n",
    "model[pipeIndicies] = pipe_susceptibility"
   ]
  },
  {
   "cell_type": "code",
   "execution_count": 8,
   "id": "cc926ccc",
   "metadata": {},
   "outputs": [],
   "source": [
    "ind_active = np.ones(nC, dtype=bool)"
   ]
  },
  {
   "cell_type": "code",
   "execution_count": 9,
   "id": "27031f02",
   "metadata": {},
   "outputs": [
    {
     "data": {
      "image/png": "[encoded data removed]",
      "text/plain": [
       "<Figure size 648x288 with 2 Axes>"
      ]
     },
     "metadata": {
      "needs_background": "light"
     },
     "output_type": "display_data"
    }
   ],
   "source": [
    "# Plot Model\n",
    "fig = plt.figure(figsize=(9, 4))\n",
    "\n",
    "plotting_map = maps.InjectActiveCells(mesh, ind_active, np.nan)\n",
    "ax1 = fig.add_axes([0.1, 0.12, 0.73, 0.78])\n",
    "mesh.plotSlice(\n",
    "    plotting_map * model,\n",
    "    normal=\"Y\",\n",
    "    ax=ax1,\n",
    "    ind=0,\n",
    "    grid=True,\n",
    "    clim=(np.min(model), np.max(model)),\n",
    ")\n",
    "ax1.set_title(\"Model slice at y = ... m\")\n",
    "ax1.set_xlabel(\"x (m)\")\n",
    "ax1.set_ylabel(\"z (m)\")\n",
    "\n",
    "ax2 = fig.add_axes([0.85, 0.12, 0.05, 0.78])\n",
    "norm = mpl.colors.Normalize(vmin=np.min(model), vmax=np.max(model))\n",
    "cbar = mpl.colorbar.ColorbarBase(ax2, norm=norm, orientation=\"vertical\")\n",
    "cbar.set_label(\"Magnetic Susceptibility (SI)\", rotation=270, labelpad=15, size=12)\n",
    "\n",
    "plt.show()"
   ]
  },
  {
   "cell_type": "code",
   "execution_count": 10,
   "id": "268b9bb0",
   "metadata": {},
   "outputs": [],
   "source": [
    "# Define the forward simulation. By setting the 'store_sensitivities' keyword\n",
    "# argument to \"forward_only\", we simulate the data without storing the sensitivities\n",
    "simulation = magnetics.simulation.Simulation3DIntegral(\n",
    "    survey=survey,\n",
    "    mesh=mesh,\n",
    "    model_type=\"scalar\",\n",
    "    chiMap=model_map,\n",
    "    actInd=ind_active,\n",
    "    store_sensitivities=\"forward_only\",\n",
    ")\n",
    "\n",
    "\n",
    "# Compute predicted data for a susceptibility model\n",
    "dpred = simulation.dpred(model)"
   ]
  },
  {
   "cell_type": "code",
   "execution_count": 11,
   "id": "66a17810",
   "metadata": {},
   "outputs": [
    {
     "data": {
      "image/png": "[encoded data removed]",
      "text/plain": [
       "<Figure size 432x360 with 2 Axes>"
      ]
     },
     "metadata": {
      "needs_background": "light"
     },
     "output_type": "display_data"
    }
   ],
   "source": [
    "# Plot\n",
    "fig = plt.figure(figsize=(6, 5))\n",
    "v_max = np.max(np.abs(dpred))\n",
    "\n",
    "ax1 = fig.add_axes([0.1, 0.1, 0.8, 0.85])\n",
    "plot2Ddata(\n",
    "    receiver_list[0].locations,\n",
    "    dpred,\n",
    "    ax=ax1,\n",
    "    ncontour=30,\n",
    "    clim=(-v_max, v_max),\n",
    "    contourOpts={\"cmap\": \"bwr\"},\n",
    ")\n",
    "ax1.set_title(\"TMI Anomaly\")\n",
    "ax1.set_xlabel(\"x (m)\")\n",
    "ax1.set_ylabel(\"y (m)\")\n",
    "\n",
    "ax2 = fig.add_axes([0.87, 0.1, 0.03, 0.85])\n",
    "norm = mpl.colors.Normalize(vmin=-np.max(np.abs(dpred)), vmax=np.max(np.abs(dpred)))\n",
    "cbar = mpl.colorbar.ColorbarBase(\n",
    "    ax2, norm=norm, orientation=\"vertical\", cmap=mpl.cm.bwr\n",
    ")\n",
    "cbar.set_label(\"$nT$\", rotation=270, labelpad=15, size=12)\n",
    "\n",
    "plt.show()\n"
   ]
  },
  {
   "cell_type": "code",
   "execution_count": 12,
   "id": "9ec9e296",
   "metadata": {},
   "outputs": [
    {
     "data": {
      "text/plain": [
       "<matplotlib.colorbar.Colorbar at 0x7fed19c2fe50>"
      ]
     },
     "execution_count": 12,
     "metadata": {},
     "output_type": "execute_result"
    },
    {
     "data": {
      "image/png": "[encoded data removed]",
      "text/plain": [
       "<Figure size 432x288 with 2 Axes>"
      ]
     },
     "metadata": {
      "needs_background": "light"
     },
     "output_type": "display_data"
    }
   ],
   "source": [
    "dF2D = dpred.reshape([28,28])\n",
    "plt.imshow(dF2D)\n",
    "plt.colorbar()"
   ]
  },
  {
   "cell_type": "code",
   "execution_count": 13,
   "id": "7ea33f4a",
   "metadata": {},
   "outputs": [
    {
     "data": {
      "text/plain": [
       "<matplotlib.colorbar.Colorbar at 0x7fed19cefb20>"
      ]
     },
     "execution_count": 13,
     "metadata": {},
     "output_type": "execute_result"
    },
    {
     "data": {
      "image/png": "[encoded data removed]",
      "text/plain": [
       "<Figure size 432x288 with 2 Axes>"
      ]
     },
     "metadata": {
      "needs_background": "light"
     },
     "output_type": "display_data"
    }
   ],
   "source": [
    "dF2D = dpred.reshape([28,28])\n",
    "plt.imshow(dF2D)\n",
    "plt.colorbar()"
   ]
  },
  {
   "cell_type": "markdown",
   "id": "884ddc71",
   "metadata": {},
   "source": [
    "# Random noise"
   ]
  },
  {
   "cell_type": "code",
   "execution_count": 14,
   "id": "ccf5e119",
   "metadata": {},
   "outputs": [
    {
     "data": {
      "text/plain": [
       "<matplotlib.colorbar.Colorbar at 0x7fed2e1896a0>"
      ]
     },
     "execution_count": 14,
     "metadata": {},
     "output_type": "execute_result"
    },
    {
     "data": {
      "image/png": "[encoded data removed]",
      "text/plain": [
       "<Figure size 432x288 with 2 Axes>"
      ]
     },
     "metadata": {
      "needs_background": "light"
     },
     "output_type": "display_data"
    }
   ],
   "source": [
    "rand2D = np.random.rand(28,28) * 100\n",
    "plt.imshow(rand2D)\n",
    "plt.colorbar()"
   ]
  },
  {
   "cell_type": "code",
   "execution_count": 15,
   "id": "33b883a1",
   "metadata": {},
   "outputs": [
    {
     "data": {
      "text/plain": [
       "<matplotlib.colorbar.Colorbar at 0x7fed08517850>"
      ]
     },
     "execution_count": 15,
     "metadata": {},
     "output_type": "execute_result"
    },
    {
     "data": {
      "image/png": "[encoded data removed]",
      "text/plain": [
       "<Figure size 432x288 with 2 Axes>"
      ]
     },
     "metadata": {
      "needs_background": "light"
     },
     "output_type": "display_data"
    }
   ],
   "source": [
    "#combine\n",
    "dFN = dF2D + rand2D\n",
    "plt.imshow(dFN)\n",
    "plt.colorbar()"
   ]
  },
  {
   "cell_type": "markdown",
   "id": "9eedac2f",
   "metadata": {},
   "source": [
    "# Make thin pipe, but don't be wasteful with cells"
   ]
  },
  {
   "cell_type": "code",
   "execution_count": 16,
   "id": "5922271f",
   "metadata": {
    "scrolled": true
   },
   "outputs": [
    {
     "data": {
      "text/plain": [
       "<matplotlib.colorbar.Colorbar at 0x7fed38617a90>"
      ]
     },
     "execution_count": 16,
     "metadata": {},
     "output_type": "execute_result"
    },
    {
     "data": {
      "image/png": "[encoded data removed]",
      "text/plain": [
       "<Figure size 432x288 with 2 Axes>"
      ]
     },
     "metadata": {
      "needs_background": "light"
     },
     "output_type": "display_data"
    }
   ],
   "source": [
    "#along y direction:\n",
    "\n",
    "dw = 0.5 #m, width of pipe\n",
    "dp1 = 10 #m, position along free dimension (either x or y)\n",
    "h1 = [(dp1, 1), (dw, 1), (100-dp1-dw, 1)] \n",
    "h2 = [(100, 1)]\n",
    "\n",
    "hx = h2 #choose free dimension, x or y\n",
    "hy = h1\n",
    "hz = [(1, 3)] #buried 2m under\n",
    "\n",
    "mesh = TensorMesh([hx, hy, hz], \"CCN\")\n",
    "\n",
    "# Define model. Models in SimPEG are vector arrays\n",
    "model = background_susceptibility * np.ones(nC)\n",
    "\n",
    "\n",
    "rp = 1 #1 in this case since xi=1, yi, zi=0\n",
    "model[rp] = pipe_susceptibility\n",
    "\n",
    "#forward simulation:\n",
    "\n",
    "simulation = magnetics.simulation.Simulation3DIntegral(\n",
    "    survey=survey,\n",
    "    mesh=mesh,\n",
    "    model_type=\"scalar\",\n",
    "    chiMap=model_map,\n",
    "    actInd=ind_active,\n",
    "    store_sensitivities=\"forward_only\",\n",
    ")\n",
    "\n",
    "# Compute predicted data for a susceptibility model\n",
    "dpred = simulation.dpred(model)\n",
    "\n",
    "dF2D = dpred.reshape([28,28])\n",
    "rand2D = np.random.rand(28,28) * 10\n",
    "\n",
    "#combine\n",
    "dFN = dF2D + rand2D\n",
    "plt.imshow(dFN)\n",
    "plt.colorbar()\n"
   ]
  },
  {
   "cell_type": "markdown",
   "id": "40c6e054",
   "metadata": {},
   "source": [
    "# Now generate all data for pipe/no pipe"
   ]
  },
  {
   "cell_type": "code",
   "execution_count": 17,
   "id": "91f6ee00",
   "metadata": {},
   "outputs": [],
   "source": [
    "dFNPipes = []"
   ]
  },
  {
   "cell_type": "code",
   "execution_count": 18,
   "id": "2995ea47",
   "metadata": {
    "scrolled": true
   },
   "outputs": [
    {
     "name": "stdout",
     "output_type": "stream",
     "text": [
      "0\n",
      "10\n",
      "20\n",
      "30\n",
      "40\n",
      "50\n",
      "60\n",
      "70\n",
      "80\n",
      "90\n",
      "100\n",
      "110\n"
     ]
    }
   ],
   "source": [
    "for i in range(120): #x free dimension, pipe along y direction\n",
    "    if(i%10 == 0):\n",
    "        print(i)\n",
    "    dw = 0.5 #m, width of pipe\n",
    "    dp1 = np.random.rand()*10+10 #between 10 and 20\n",
    "    h1 = [(dp1, 1), (dw, 1), (100-dp1-dw, 1)] \n",
    "    h2 = [(100, 1)]\n",
    "    \n",
    "    if(i < 50): #first 50\n",
    "        hx = h1 #choose free dimension, x or y\n",
    "        hy = h2\n",
    "    else: \n",
    "        hx = h2\n",
    "        hy = h1\n",
    "        \n",
    "    hz = [(1, 3)] #buried 2m under\n",
    "\n",
    "    mesh = TensorMesh([hx, hy, hz], \"CCN\")\n",
    "\n",
    "    # Define model. Models in SimPEG are vector arrays\n",
    "    model = background_susceptibility * np.ones(nC)\n",
    "\n",
    "\n",
    "    rp = 1 #1 in this case since xi=1, yi, zi=0\n",
    "    model[rp] = pipe_susceptibility\n",
    "\n",
    "    #forward simulation:\n",
    "\n",
    "    simulation = magnetics.simulation.Simulation3DIntegral(\n",
    "        survey=survey,\n",
    "        mesh=mesh,\n",
    "        model_type=\"scalar\",\n",
    "        chiMap=model_map,\n",
    "        actInd=ind_active,\n",
    "        store_sensitivities=\"forward_only\",\n",
    "    )\n",
    "\n",
    "    # Compute predicted data for a susceptibility model\n",
    "    dpred = simulation.dpred(model)\n",
    "\n",
    "    dF2D = dpred.reshape([28,28])\n",
    "    rand2D = np.random.rand(28,28) * 10\n",
    "\n",
    "    #combine\n",
    "    dFN = dF2D + rand2D\n",
    "    \n",
    "    dFNPipes.append(torch.from_numpy(dFN).to(torch.float32)/np.max(dFN)) #normalize"
   ]
  },
  {
   "cell_type": "code",
   "execution_count": 19,
   "id": "cc581d87",
   "metadata": {},
   "outputs": [
    {
     "data": {
      "text/plain": [
       "34.80515982923082"
      ]
     },
     "execution_count": 19,
     "metadata": {},
     "output_type": "execute_result"
    }
   ],
   "source": [
    "np.max(dFN)"
   ]
  },
  {
   "cell_type": "code",
   "execution_count": 20,
   "id": "3a6464e8",
   "metadata": {},
   "outputs": [],
   "source": [
    "tdFNPipes = torch.stack(dFNPipes).unsqueeze(1)"
   ]
  },
  {
   "cell_type": "code",
   "execution_count": 21,
   "id": "418e5e1b",
   "metadata": {},
   "outputs": [
    {
     "data": {
      "text/plain": [
       "torch.Size([120, 1, 28, 28])"
      ]
     },
     "execution_count": 21,
     "metadata": {},
     "output_type": "execute_result"
    }
   ],
   "source": [
    "tdFNPipes.shape"
   ]
  },
  {
   "cell_type": "code",
   "execution_count": 22,
   "id": "63864c01",
   "metadata": {},
   "outputs": [
    {
     "name": "stdout",
     "output_type": "stream",
     "text": [
      "torch.Size([120, 1, 28, 28])\n"
     ]
    }
   ],
   "source": [
    "#generate 100 random fields, no pipe\n",
    "dFNull = []\n",
    "\n",
    "for i in range(120):\n",
    "    dFNull.append(torch.rand(1,28,28)/35)\n",
    "\n",
    "tdFNull = torch.stack(dFNull)\n",
    "print(tdFNull.shape)"
   ]
  },
  {
   "cell_type": "code",
   "execution_count": 23,
   "id": "19c10e73",
   "metadata": {},
   "outputs": [
    {
     "data": {
      "text/plain": [
       "<matplotlib.colorbar.Colorbar at 0x7fed18f12460>"
      ]
     },
     "execution_count": 23,
     "metadata": {},
     "output_type": "execute_result"
    },
    {
     "data": {
      "image/png": "[encoded data removed]",
      "text/plain": [
       "<Figure size 432x288 with 2 Axes>"
      ]
     },
     "metadata": {
      "needs_background": "light"
     },
     "output_type": "display_data"
    }
   ],
   "source": [
    "plt.imshow(tdFNull[13, 0])\n",
    "plt.colorbar()"
   ]
  },
  {
   "cell_type": "code",
   "execution_count": 24,
   "id": "1928c976",
   "metadata": {},
   "outputs": [
    {
     "data": {
      "text/plain": [
       "<matplotlib.colorbar.Colorbar at 0x7fed19c65e50>"
      ]
     },
     "execution_count": 24,
     "metadata": {},
     "output_type": "execute_result"
    },
    {
     "data": {
      "image/png": "[encoded data removed]",
      "text/plain": [
       "<Figure size 432x288 with 2 Axes>"
      ]
     },
     "metadata": {
      "needs_background": "light"
     },
     "output_type": "display_data"
    }
   ],
   "source": [
    "plt.imshow(tdFNPipes[0, 0])\n",
    "plt.colorbar()"
   ]
  },
  {
   "cell_type": "code",
   "execution_count": 25,
   "id": "52358221",
   "metadata": {},
   "outputs": [
    {
     "name": "stdout",
     "output_type": "stream",
     "text": [
      "torch.Size([100, 1, 28, 28])\n",
      "torch.Size([20, 1, 28, 28])\n"
     ]
    }
   ],
   "source": [
    "#train test\n",
    "zeroImagesTrain = tdFNull[:100]\n",
    "oneImagesTrain = tdFNPipes[:100]\n",
    "\n",
    "zeroImagesTest = tdFNull[100:]\n",
    "oneImagesTest = tdFNPipes[100:]\n",
    "\n",
    "print(zeroImagesTrain.shape)\n",
    "print(oneImagesTest.shape)"
   ]
  },
  {
   "cell_type": "code",
   "execution_count": 26,
   "id": "a11a6014",
   "metadata": {},
   "outputs": [],
   "source": [
    "#convert to torch.tensor and save null as zero, single pipe as ones\n",
    "torch.save(zeroImagesTrain, '../data/zeroImagesTrain.pt')\n",
    "torch.save(oneImagesTrain, '../data/oneImagesTrain.pt')\n",
    "\n",
    "torch.save(zeroImagesTest, '../data/zeroImagesTest.pt')\n",
    "torch.save(oneImagesTest, '../data/oneImagesTest.pt')\n",
    "\n",
    "#name: oneImages.pt\n",
    "#zeroImages.pt"
   ]
  },
  {
   "cell_type": "code",
   "execution_count": null,
   "id": "bda5e7fe",
   "metadata": {},
   "outputs": [],
   "source": []
  }
 ],
 "metadata": {
  "kernelspec": {
   "display_name": "Python 3 (ipykernel)",
   "language": "python",
   "name": "python3"
  },
  "language_info": {
   "codemirror_mode": {
    "name": "ipython",
    "version": 3
   },
   "file_extension": ".py",
   "mimetype": "text/x-python",
   "name": "python",
   "nbconvert_exporter": "python",
   "pygments_lexer": "ipython3",
   "version": "3.9.12"
  }
 },
 "nbformat": 4,
 "nbformat_minor": 5
}
