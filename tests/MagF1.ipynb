{
 "cells": [
  {
   "cell_type": "code",
   "execution_count": 1,
   "id": "eddb6626",
   "metadata": {},
   "outputs": [],
   "source": [
    "import numpy as np\n",
    "from scipy.interpolate import LinearNDInterpolator\n",
    "import matplotlib as mpl\n",
    "import matplotlib.pyplot as plt\n",
    "import os\n",
    "\n",
    "from discretize import TensorMesh\n",
    "from discretize.utils import mkvc\n",
    "from SimPEG.utils import plot2Ddata, model_builder, surface2ind_topo\n",
    "from SimPEG import maps, utils\n",
    "from SimPEG.potential_fields import magnetics\n",
    "\n",
    "write_output = False\n",
    "\n",
    "# sphinx_gallery_thumbnail_number = 2"
   ]
  },
  {
   "cell_type": "code",
   "execution_count": 2,
   "id": "79fa96e0",
   "metadata": {},
   "outputs": [],
   "source": [
    "[x_topo, y_topo] = np.meshgrid(np.linspace(-200, 200, 41), np.linspace(-200, 200, 41))\n",
    "z_topo = 0 * np.exp(-((x_topo-5) ** 2 + y_topo ** 2) / 80 ** 2)\n",
    "x_topo, y_topo, z_topo = mkvc(x_topo), mkvc(y_topo), mkvc(z_topo)\n",
    "xyz_topo = np.c_[x_topo, y_topo, z_topo]"
   ]
  },
  {
   "cell_type": "code",
   "execution_count": 3,
   "id": "eef78715",
   "metadata": {},
   "outputs": [
    {
     "data": {
      "text/plain": [
       "(1681, 3)"
      ]
     },
     "execution_count": 3,
     "metadata": {},
     "output_type": "execute_result"
    }
   ],
   "source": [
    "xyz_topo.shape"
   ]
  },
  {
   "cell_type": "code",
   "execution_count": 4,
   "id": "a814cc58",
   "metadata": {},
   "outputs": [
    {
     "name": "stdout",
     "output_type": "stream",
     "text": [
      "[[-200. -200.    0.]\n",
      " [-200. -190.    0.]\n",
      " [-200. -180.    0.]\n",
      " ...\n",
      " [ 200.  180.    0.]\n",
      " [ 200.  190.    0.]\n",
      " [ 200.  200.    0.]]\n"
     ]
    }
   ],
   "source": [
    "print(xyz_topo)"
   ]
  },
  {
   "cell_type": "code",
   "execution_count": 5,
   "id": "215028ed",
   "metadata": {},
   "outputs": [],
   "source": [
    "# Define the observation locations as an (N, 3) numpy array or load them.\n",
    "x = np.linspace(-50.0, 50.0, 28)\n",
    "y = np.linspace(-50.0, 50.0, 28)\n",
    "x, y = np.meshgrid(x, y)\n",
    "x, y = mkvc(x.T), mkvc(y.T)\n",
    "fun_interp = LinearNDInterpolator(np.c_[x_topo, y_topo], z_topo)\n",
    "z = fun_interp(np.c_[x, y]) + 10  # Flight height 10 m above surface.\n",
    "receiver_locations = np.c_[x, y, z]\n",
    "\n",
    "# Define the component(s) of the field we want to simulate as a list of strings.\n",
    "# Here we simulation total magnetic intensity data.\n",
    "components = [\"tmi\"]\n",
    "\n",
    "# Use the observation locations and components to define the receivers. To\n",
    "# simulate data, the receivers must be defined as a list.\n",
    "receiver_list = magnetics.receivers.Point(receiver_locations, components=components)\n",
    "\n",
    "receiver_list = [receiver_list]\n",
    "\n",
    "# Define the inducing field H0 = (intensity [nT], inclination [deg], declination [deg])\n",
    "inclination = 90\n",
    "declination = 0\n",
    "strength = 50000\n",
    "inducing_field = (strength, inclination, declination)\n",
    "\n",
    "source_field = magnetics.sources.SourceField(\n",
    "    receiver_list=receiver_list, parameters=inducing_field\n",
    ")\n",
    "\n",
    "# Define the survey\n",
    "survey = magnetics.survey.Survey(source_field)"
   ]
  },
  {
   "cell_type": "code",
   "execution_count": 6,
   "id": "6a949b05",
   "metadata": {},
   "outputs": [],
   "source": [
    "dh = 10.0\n",
    "\n",
    "hx = [(dh, 10)]\n",
    "hy = [(dh, 10)]\n",
    "hz = [(dh, 3)]\n",
    "mesh = TensorMesh([hx, hy, hz], \"CCN\")"
   ]
  },
  {
   "cell_type": "code",
   "execution_count": 7,
   "id": "4e49b211",
   "metadata": {},
   "outputs": [
    {
     "name": "stdout",
     "output_type": "stream",
     "text": [
      "<class 'discretize.tensor_mesh.TensorMesh'>\n"
     ]
    },
    {
     "data": {
      "text/plain": [
       "10"
      ]
     },
     "execution_count": 7,
     "metadata": {},
     "output_type": "execute_result"
    }
   ],
   "source": [
    "print(type(mesh))\n",
    "mesh.nCx"
   ]
  },
  {
   "cell_type": "code",
   "execution_count": 28,
   "id": "59c1357f",
   "metadata": {},
   "outputs": [
    {
     "name": "stdout",
     "output_type": "stream",
     "text": [
      "Background sus: 0.0001\n"
     ]
    }
   ],
   "source": [
    "# Define susceptibility values for each unit in SI\n",
    "background_susceptibility = 0.0001\n",
    "pipe_susceptibility = 1\n",
    "\n",
    "# Find cells that are active in the forward modeling (cells below surface)\n",
    "ind_active = surface2ind_topo(mesh, xyz_topo)\n",
    "\n",
    "# Define mapping from model to active cells\n",
    "nC = int(ind_active.sum())\n",
    "model_map = maps.IdentityMap(nP=nC)  # model is a vlue for each active cell\n",
    "print(\"Background sus: \" + str(background_susceptibility))"
   ]
  },
  {
   "cell_type": "code",
   "execution_count": 29,
   "id": "179c38c2",
   "metadata": {},
   "outputs": [
    {
     "name": "stdout",
     "output_type": "stream",
     "text": [
      "[102 112 122 132 142 152 162 172 182 192]\n"
     ]
    }
   ],
   "source": [
    "# Define model. Models in SimPEG are vector arrays\n",
    "model = background_susceptibility * np.ones(ind_active.sum())\n",
    "\n",
    "#indices go through x, y, then z, from bottom up\n",
    "xp = 2\n",
    "yp = np.arange(mesh.nCy) #goes along y direction, covers each y\n",
    "zp = 1\n",
    "\n",
    "rp = xp + mesh.nCx * yp + mesh.nCx * mesh.nCy * zp\n",
    "print(rc)\n"
   ]
  },
  {
   "cell_type": "code",
   "execution_count": 30,
   "id": "7e3ed106",
   "metadata": {},
   "outputs": [],
   "source": [
    "pipe_indices = rp\n",
    "model[pipe_indices] = pipe_susceptibility"
   ]
  },
  {
   "cell_type": "code",
   "execution_count": 31,
   "id": "27031f02",
   "metadata": {},
   "outputs": [
    {
     "data": {
      "image/png": "[encoded data removed]",
      "text/plain": [
       "<Figure size 648x288 with 2 Axes>"
      ]
     },
     "metadata": {
      "needs_background": "light"
     },
     "output_type": "display_data"
    }
   ],
   "source": [
    "# Plot Model\n",
    "fig = plt.figure(figsize=(9, 4))\n",
    "\n",
    "plotting_map = maps.InjectActiveCells(mesh, ind_active, np.nan)\n",
    "ax1 = fig.add_axes([0.1, 0.12, 0.73, 0.78])\n",
    "mesh.plotSlice(\n",
    "    plotting_map * model,\n",
    "    normal=\"Y\",\n",
    "    ax=ax1,\n",
    "    ind=3,\n",
    "    grid=True,\n",
    "    clim=(np.min(model), np.max(model)),\n",
    ")\n",
    "ax1.set_title(\"Model slice at y = 0 m\")\n",
    "ax1.set_xlabel(\"x (m)\")\n",
    "ax1.set_ylabel(\"z (m)\")\n",
    "\n",
    "ax2 = fig.add_axes([0.85, 0.12, 0.05, 0.78])\n",
    "norm = mpl.colors.Normalize(vmin=np.min(model), vmax=np.max(model))\n",
    "cbar = mpl.colorbar.ColorbarBase(ax2, norm=norm, orientation=\"vertical\")\n",
    "cbar.set_label(\"Magnetic Susceptibility (SI)\", rotation=270, labelpad=15, size=12)\n",
    "\n",
    "plt.show()"
   ]
  },
  {
   "cell_type": "code",
   "execution_count": 32,
   "id": "268b9bb0",
   "metadata": {},
   "outputs": [],
   "source": [
    "# Define the forward simulation. By setting the 'store_sensitivities' keyword\n",
    "# argument to \"forward_only\", we simulate the data without storing the sensitivities\n",
    "simulation = magnetics.simulation.Simulation3DIntegral(\n",
    "    survey=survey,\n",
    "    mesh=mesh,\n",
    "    model_type=\"scalar\",\n",
    "    chiMap=model_map,\n",
    "    actInd=ind_active,\n",
    "    store_sensitivities=\"forward_only\",\n",
    ")\n",
    "\n",
    "# Compute predicted data for a susceptibility model\n",
    "dpred = simulation.dpred(model)\n",
    "\n"
   ]
  },
  {
   "cell_type": "code",
   "execution_count": 33,
   "id": "4a5ef5c1",
   "metadata": {},
   "outputs": [
    {
     "data": {
      "image/png": "[encoded data removed]",
      "text/plain": [
       "<Figure size 432x360 with 2 Axes>"
      ]
     },
     "metadata": {
      "needs_background": "light"
     },
     "output_type": "display_data"
    }
   ],
   "source": [
    "# Plot\n",
    "fig = plt.figure(figsize=(6, 5))\n",
    "v_max = np.max(np.abs(dpred))\n",
    "\n",
    "ax1 = fig.add_axes([0.1, 0.1, 0.8, 0.85])\n",
    "plot2Ddata(\n",
    "    receiver_list[0].locations,\n",
    "    dpred,\n",
    "    ax=ax1,\n",
    "    ncontour=30,\n",
    "    clim=(-v_max, v_max),\n",
    "    contourOpts={\"cmap\": \"bwr\"},\n",
    ")\n",
    "ax1.set_title(\"TMI Anomaly\")\n",
    "ax1.set_xlabel(\"x (m)\")\n",
    "ax1.set_ylabel(\"y (m)\")\n",
    "\n",
    "ax2 = fig.add_axes([0.87, 0.1, 0.03, 0.85])\n",
    "norm = mpl.colors.Normalize(vmin=-np.max(np.abs(dpred)), vmax=np.max(np.abs(dpred)))\n",
    "cbar = mpl.colorbar.ColorbarBase(\n",
    "    ax2, norm=norm, orientation=\"vertical\", cmap=mpl.cm.bwr\n",
    ")\n",
    "cbar.set_label(\"$nT$\", rotation=270, labelpad=15, size=12)\n",
    "\n",
    "plt.show()\n"
   ]
  },
  {
   "cell_type": "code",
   "execution_count": 39,
   "id": "9ec9e296",
   "metadata": {},
   "outputs": [
    {
     "data": {
      "text/plain": [
       "<matplotlib.colorbar.Colorbar at 0x7f83197c3fd0>"
      ]
     },
     "execution_count": 39,
     "metadata": {},
     "output_type": "execute_result"
    },
    {
     "data": {
      "image/png": "[encoded data removed]",
      "text/plain": [
       "<Figure size 432x288 with 2 Axes>"
      ]
     },
     "metadata": {
      "needs_background": "light"
     },
     "output_type": "display_data"
    }
   ],
   "source": [
    "dF2D = dpred.reshape([28,28])\n",
    "plt.imshow(dF2D)\n",
    "plt.colorbar()"
   ]
  },
  {
   "cell_type": "markdown",
   "id": "e186d2e1",
   "metadata": {},
   "source": [
    "# Random noise"
   ]
  },
  {
   "cell_type": "code",
   "execution_count": null,
   "id": "e9da7de1",
   "metadata": {},
   "outputs": [],
   "source": []
  }
 ],
 "metadata": {
  "kernelspec": {
   "display_name": "Python 3 (ipykernel)",
   "language": "python",
   "name": "python3"
  },
  "language_info": {
   "codemirror_mode": {
    "name": "ipython",
    "version": 3
   },
   "file_extension": ".py",
   "mimetype": "text/x-python",
   "name": "python",
   "nbconvert_exporter": "python",
   "pygments_lexer": "ipython3",
   "version": "3.9.12"
  }
 },
 "nbformat": 4,
 "nbformat_minor": 5
}
