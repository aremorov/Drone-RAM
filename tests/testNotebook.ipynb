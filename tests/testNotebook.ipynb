{
 "cells": [
  {
   "cell_type": "markdown",
   "id": "8dd742ae",
   "metadata": {},
   "source": [
    "# RAM model"
   ]
  },
  {
   "cell_type": "code",
   "execution_count": 1,
   "id": "67653e1b",
   "metadata": {},
   "outputs": [],
   "source": [
    "import sys\n",
    "sys.path.append(\"..\")\n",
    "\n",
    "import torch\n",
    "\n",
    "import model\n",
    "import utils\n",
    "\n",
    "\n",
    "\n",
    "# paths\n",
    "plot_dir = \"../plots/\"\n",
    "data_dir = \"../data/\"\n",
    "\n",
    "# load images\n",
    "imgs = []\n",
    "paths = [data_dir + \"./lenna.jpg\", data_dir + \"./cat.jpg\"]\n",
    "for i in range(len(paths)):\n",
    "    img = utils.img2array(paths[i], desired_size=[512, 512], expand=True)\n",
    "    imgs.append(torch.from_numpy(img))\n",
    "imgs = torch.cat(imgs).permute((0, 3, 1, 2))\n",
    "\n",
    "B, C, H, W = imgs.shape\n",
    "l_t_prev = torch.FloatTensor(B, 2).uniform_(-1, 1)\n",
    "h_t_prev = torch.zeros(B, 256)\n",
    "\n",
    "ram = model.RecurrentAttention(64, 3, 2, C, 128, 128, 0.11, 256, 10)\n",
    "h_t, l_t, _, _ = ram(imgs, l_t_prev, h_t_prev)\n",
    "\n",
    "assert h_t.shape == (B, 256)\n",
    "assert l_t.shape == (B, 2)\n"
   ]
  },
  {
   "cell_type": "code",
   "execution_count": 3,
   "id": "160738a9",
   "metadata": {
    "scrolled": true
   },
   "outputs": [
    {
     "data": {
      "text/plain": [
       "torch.Size([2, 256])"
      ]
     },
     "execution_count": 3,
     "metadata": {},
     "output_type": "execute_result"
    }
   ],
   "source": [
    "h_t.shape"
   ]
  },
  {
   "cell_type": "code",
   "execution_count": 4,
   "id": "3735533b",
   "metadata": {},
   "outputs": [
    {
     "data": {
      "text/plain": [
       "torch.Size([2, 2])"
      ]
     },
     "execution_count": 4,
     "metadata": {},
     "output_type": "execute_result"
    }
   ],
   "source": [
    "l_t.shape"
   ]
  },
  {
   "cell_type": "code",
   "execution_count": 5,
   "id": "47ebf388",
   "metadata": {},
   "outputs": [
    {
     "data": {
      "text/plain": [
       "tensor([[-0.1607,  0.0038],\n",
       "        [-0.2209,  0.0581]])"
      ]
     },
     "execution_count": 5,
     "metadata": {},
     "output_type": "execute_result"
    }
   ],
   "source": [
    "l_t"
   ]
  },
  {
   "cell_type": "code",
   "execution_count": 6,
   "id": "17041a0b",
   "metadata": {},
   "outputs": [
    {
     "data": {
      "text/plain": [
       "torch.Size([2, 256])"
      ]
     },
     "execution_count": 6,
     "metadata": {},
     "output_type": "execute_result"
    }
   ],
   "source": [
    "h_t_prev.shape"
   ]
  },
  {
   "cell_type": "code",
   "execution_count": 7,
   "id": "b1d8cf56",
   "metadata": {},
   "outputs": [
    {
     "data": {
      "image/png": "[encoded data removed]",
      "text/plain": [
       "<Figure size 432x288 with 2 Axes>"
      ]
     },
     "metadata": {
      "needs_background": "light"
     },
     "output_type": "display_data"
    }
   ],
   "source": [
    "import sys\n",
    "sys.path.append(\"..\")\n",
    "\n",
    "from functools import reduce\n",
    "\n",
    "import matplotlib.patches as patches\n",
    "import matplotlib.pyplot as plt\n",
    "import numpy as np\n",
    "import torch\n",
    "from PIL import Image\n",
    "\n",
    "from modules import Retina\n",
    "from utils import array2img, img2array\n",
    "\n",
    "\n",
    "\n",
    "def bounding_box(x, y, size, color=\"w\"):\n",
    "    x = int(x - (size / 2))\n",
    "    y = int(y - (size / 2))\n",
    "    rect = patches.Rectangle(\n",
    "        (x, y), size, size, linewidth=1, edgecolor=color, fill=False\n",
    "    )\n",
    "    return rect\n",
    "\n",
    "\n",
    "# https://stackoverflow.com/questions/10657383/stitching-photos-together\n",
    "def merge_images(image1, image2):\n",
    "    \"\"\"Merge two images into one, displayed side by side.\n",
    "    \"\"\"\n",
    "    (width1, height1) = image1.size\n",
    "    (width2, height2) = image2.size\n",
    "\n",
    "    result_width = width1 + width2\n",
    "    result_height = max(height1, height2)\n",
    "\n",
    "    result = Image.new(\"RGB\", (result_width, result_height))\n",
    "    result.paste(im=image1, box=(0, 0))\n",
    "    result.paste(im=image2, box=(width1, 0))\n",
    "    return result\n",
    "\n",
    "\n",
    "def main():\n",
    "    # paths\n",
    "    data_dir = \"../data/\"\n",
    "\n",
    "    # load images\n",
    "    imgs = []\n",
    "    paths = [data_dir + \"./lenna.jpg\", data_dir + \"./cat.jpg\"]\n",
    "    for i in range(len(paths)):\n",
    "        img = img2array(paths[i], desired_size=[512, 512], expand=True)\n",
    "        imgs.append(torch.from_numpy(img))\n",
    "    imgs = torch.cat(imgs).permute(0, 3, 1, 2)\n",
    "\n",
    "    # loc = torch.Tensor(2, 2).uniform_(-1, 1)\n",
    "    loc = torch.from_numpy(np.array([[0.0, 0.0], [0.0, 0.0]]))\n",
    "\n",
    "    num_patches = 5\n",
    "    scale = 2\n",
    "    patch_size = 10\n",
    "\n",
    "    ret = Retina(g=patch_size, k=num_patches, s=scale)\n",
    "    glimpse = ret.foveate(imgs, loc).data.numpy()\n",
    "\n",
    "    glimpse = np.reshape(glimpse, [2, num_patches, 3, patch_size, patch_size])\n",
    "    glimpse = np.transpose(glimpse, [0, 1, 3, 4, 2])\n",
    "\n",
    "    merged = []\n",
    "    for i in range(len(glimpse)):\n",
    "        g = glimpse[i]\n",
    "        g = list(g)\n",
    "        g = [array2img(l) for l in g]\n",
    "        res = reduce(merge_images, list(g))\n",
    "        merged.append(res)\n",
    "\n",
    "    merged = [np.asarray(l, dtype=\"float32\") / 255.0 for l in merged]\n",
    "\n",
    "    fig, axs = plt.subplots(nrows=2, ncols=1)\n",
    "    for i, ax in enumerate(axs.flat):\n",
    "        axs[i].imshow(merged[i])\n",
    "        axs[i].get_xaxis().set_visible(False)\n",
    "        axs[i].get_yaxis().set_visible(False)\n",
    "    plt.show()\n",
    "\n",
    "\n",
    "if __name__ == \"__main__\":\n",
    "    main()\n"
   ]
  },
  {
   "cell_type": "code",
   "execution_count": null,
   "id": "bd8c585a",
   "metadata": {},
   "outputs": [],
   "source": []
  }
 ],
 "metadata": {
  "kernelspec": {
   "display_name": "Python 3 (ipykernel)",
   "language": "python",
   "name": "python3"
  },
  "language_info": {
   "codemirror_mode": {
    "name": "ipython",
    "version": 3
   },
   "file_extension": ".py",
   "mimetype": "text/x-python",
   "name": "python",
   "nbconvert_exporter": "python",
   "pygments_lexer": "ipython3",
   "version": "3.9.12"
  }
 },
 "nbformat": 4,
 "nbformat_minor": 5
}
