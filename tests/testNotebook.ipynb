{
 "cells": [
  {
   "cell_type": "code",
   "execution_count": 1,
   "id": "a45dd914",
   "metadata": {},
   "outputs": [],
   "source": [
    "import sys\n",
    "sys.path.append(\"..\")\n",
    "\n",
    "from functools import reduce\n",
    "\n",
    "import matplotlib.patches as patches\n",
    "import matplotlib.pyplot as plt\n",
    "import numpy as np\n",
    "import torch\n",
    "from PIL import Image\n",
    "\n",
    "from modules import Retina\n",
    "from utils import array2img, img2array\n",
    "\n",
    "sys.path.append(\"..\")\n",
    "\n",
    "import torch\n",
    "\n",
    "import model\n",
    "import utils\n",
    "\n",
    "from torchvision import datasets\n",
    "from torchvision import transforms\n",
    "from torch.utils.data.sampler import SubsetRandomSampler\n",
    "\n",
    "import data_loader\n",
    "from config import get_config\n"
   ]
  },
  {
   "cell_type": "code",
   "execution_count": 2,
   "id": "504ced3d",
   "metadata": {},
   "outputs": [
    {
     "name": "stdout",
     "output_type": "stream",
     "text": [
      "torch.Size([1, 1, 28, 28])\n"
     ]
    }
   ],
   "source": [
    "# Example tensor\n",
    "x = torch.randn(128, 1, 28, 28)\n",
    "\n",
    "# Extract the first element while maintaining dimensions\n",
    "first_element = x[0:1, :, :, :]\n",
    "\n",
    "# Verify the shape of the resulting tensor\n",
    "print(first_element.shape)  # Ou"
   ]
  },
  {
   "cell_type": "markdown",
   "id": "12ee92cb",
   "metadata": {},
   "source": [
    "# RAM model"
   ]
  },
  {
   "cell_type": "code",
   "execution_count": 3,
   "id": "8fcf5400",
   "metadata": {},
   "outputs": [
    {
     "name": "stdout",
     "output_type": "stream",
     "text": [
      "3 64 3 36864\n"
     ]
    }
   ],
   "source": [
    "# paths\n",
    "plot_dir = \"../plots/\"\n",
    "data_dir = \"../data/\"\n",
    "\n",
    "# load images\n",
    "imgs = []\n",
    "paths = [data_dir + \"./lenna.jpg\", data_dir + \"./cat.jpg\"]\n",
    "for i in range(len(paths)):\n",
    "    img = utils.img2array(paths[i], desired_size=[512, 512], expand=True)\n",
    "    imgs.append(torch.from_numpy(img))\n",
    "imgs = torch.cat(imgs).permute((0, 3, 1, 2))\n",
    "\n",
    "B, C, H, W = imgs.shape\n",
    "l_t_prev = torch.FloatTensor(B, 2).uniform_(-1, 1)\n",
    "h_t_prev = torch.zeros(B, 256)\n",
    "\n",
    "ram = model.RecurrentAttention(64, 3, 2, C, 128, 128, 0.11, 256, 10)\n",
    "h_t, l_t, _, _ = ram(imgs, l_t_prev, h_t_prev)\n",
    "\n",
    "assert h_t.shape == (B, 256)\n",
    "assert l_t.shape == (B, 2)\n"
   ]
  },
  {
   "cell_type": "code",
   "execution_count": 4,
   "id": "d4bf5d3e",
   "metadata": {
    "scrolled": true
   },
   "outputs": [
    {
     "data": {
      "text/plain": [
       "torch.Size([2, 256])"
      ]
     },
     "execution_count": 4,
     "metadata": {},
     "output_type": "execute_result"
    }
   ],
   "source": [
    "h_t.shape"
   ]
  },
  {
   "cell_type": "code",
   "execution_count": 5,
   "id": "a9016930",
   "metadata": {},
   "outputs": [
    {
     "data": {
      "text/plain": [
       "torch.Size([2, 2])"
      ]
     },
     "execution_count": 5,
     "metadata": {},
     "output_type": "execute_result"
    }
   ],
   "source": [
    "l_t.shape"
   ]
  },
  {
   "cell_type": "code",
   "execution_count": 6,
   "id": "34fbb380",
   "metadata": {},
   "outputs": [
    {
     "data": {
      "text/plain": [
       "tensor([[-0.0165, -0.0640],\n",
       "        [-0.0728,  0.2296]])"
      ]
     },
     "execution_count": 6,
     "metadata": {},
     "output_type": "execute_result"
    }
   ],
   "source": [
    "l_t"
   ]
  },
  {
   "cell_type": "code",
   "execution_count": 7,
   "id": "6e5944e9",
   "metadata": {},
   "outputs": [
    {
     "data": {
      "text/plain": [
       "torch.Size([2, 256])"
      ]
     },
     "execution_count": 7,
     "metadata": {},
     "output_type": "execute_result"
    }
   ],
   "source": [
    "h_t_prev.shape"
   ]
  },
  {
   "cell_type": "markdown",
   "id": "176b50cf",
   "metadata": {},
   "source": [
    "# Glimpse Test"
   ]
  },
  {
   "cell_type": "code",
   "execution_count": 8,
   "id": "c94e4f92",
   "metadata": {
    "scrolled": true
   },
   "outputs": [
    {
     "name": "stdout",
     "output_type": "stream",
     "text": [
      "(1, 900)\n"
     ]
    },
    {
     "data": {
      "text/plain": [
       "(10, 30, 3)"
      ]
     },
     "execution_count": 8,
     "metadata": {},
     "output_type": "execute_result"
    },
    {
     "data": {
      "image/png": "[encoded data removed]",
      "text/plain": [
       "<Figure size 432x288 with 1 Axes>"
      ]
     },
     "metadata": {
      "needs_background": "light"
     },
     "output_type": "display_data"
    }
   ],
   "source": [
    "def bounding_box(x, y, size, color=\"w\"):\n",
    "    x = int(x - (size / 2))\n",
    "    y = int(y - (size / 2))\n",
    "    rect = patches.Rectangle(\n",
    "        (x, y), size, size, linewidth=1, edgecolor=color, fill=False\n",
    "    )\n",
    "    return rect\n",
    "\n",
    "\n",
    "# https://stackoverflow.com/questions/10657383/stitching-photos-together\n",
    "def merge_images(image1, image2):\n",
    "    \"\"\"Merge two images into one, displayed side by side.\n",
    "    \"\"\"\n",
    "    (width1, height1) = image1.size\n",
    "    (width2, height2) = image2.size\n",
    "\n",
    "    result_width = width1 + width2\n",
    "    result_height = max(height1, height2)\n",
    "\n",
    "    result = Image.new(\"RGB\", (result_width, result_height))\n",
    "    result.paste(im=image1, box=(0, 0))\n",
    "    result.paste(im=image2, box=(width1, 0))\n",
    "    return result\n",
    "\n",
    "\n",
    "# paths\n",
    "data_dir = \"../data/\"\n",
    "\n",
    "\n",
    "# load images\n",
    "imgs = []\n",
    "paths = [data_dir + \"./lenna.jpg\"]\n",
    "for i in range(len(paths)):\n",
    "    img = img2array(paths[i], desired_size=[512, 512], expand=True)\n",
    "    imgs.append(torch.from_numpy(img))\n",
    "imgs = torch.cat(imgs).permute(0,3, 1, 2)\n",
    "\n",
    "#loc = torch.Tensor(2, 2).uniform_(-1, 1)\n",
    "loc = torch.from_numpy(np.array([[0.0, 0.0], [0.0, 0.0]]))\n",
    "\n",
    "num_patches = 3\n",
    "scale = 4\n",
    "patch_size = 10\n",
    "\n",
    "ret = Retina(g=patch_size, k=num_patches, s=scale)\n",
    "glimpse = ret.foveate(imgs, loc).data.numpy()\n",
    "\n",
    "print(glimpse.shape)\n",
    "\n",
    "glimpse = np.reshape(glimpse, [1, num_patches, 3, patch_size, patch_size])\n",
    "glimpse = np.transpose(glimpse, [0, 1, 3, 4, 2])\n",
    "\n",
    "merged = []\n",
    "for i in range(len(glimpse)):\n",
    "    g = glimpse[i]\n",
    "    g = list(g)\n",
    "    g = [array2img(l) for l in g]\n",
    "    res = reduce(merge_images, list(g))\n",
    "    merged.append(res)\n",
    "\n",
    "merged = [np.asarray(l, dtype=\"float32\") / 255.0 for l in merged]\n",
    "\n",
    "plt.imshow(merged[0])\n",
    "\n",
    "merged[0].shape\n"
   ]
  },
  {
   "cell_type": "markdown",
   "id": "b8a2b607",
   "metadata": {},
   "source": [
    "# Glimpse Test Single MNIST Example"
   ]
  },
  {
   "cell_type": "code",
   "execution_count": 9,
   "id": "84a941ac",
   "metadata": {},
   "outputs": [],
   "source": [
    "normalize = transforms.Normalize((0.1307,), (0.3081,))\n",
    "trans = transforms.Compose([transforms.ToTensor(), normalize])\n",
    "\n",
    "dataset = datasets.MNIST(\"../data\", train=False, download=True, transform=trans)\n"
   ]
  },
  {
   "cell_type": "code",
   "execution_count": 10,
   "id": "5546c356",
   "metadata": {},
   "outputs": [
    {
     "data": {
      "text/plain": [
       "Dataset MNIST\n",
       "    Number of datapoints: 10000\n",
       "    Root location: ../data\n",
       "    Split: Test\n",
       "    StandardTransform\n",
       "Transform: Compose(\n",
       "               ToTensor()\n",
       "               Normalize(mean=(0.1307,), std=(0.3081,))\n",
       "           )"
      ]
     },
     "execution_count": 10,
     "metadata": {},
     "output_type": "execute_result"
    }
   ],
   "source": [
    "dataset"
   ]
  },
  {
   "cell_type": "code",
   "execution_count": 11,
   "id": "f43718d7",
   "metadata": {},
   "outputs": [
    {
     "name": "stdout",
     "output_type": "stream",
     "text": [
      "torch.Size([1, 28, 28])\n"
     ]
    },
    {
     "data": {
      "image/png": "[encoded data removed]",
      "text/plain": [
       "<Figure size 432x288 with 2 Axes>"
      ]
     },
     "metadata": {
      "needs_background": "light"
     },
     "output_type": "display_data"
    }
   ],
   "source": [
    "image, label = dataset[6]\n",
    "plt.imshow(image[0])\n",
    "plt.colorbar()\n",
    "plt.title(label)\n",
    "print(image.shape)"
   ]
  },
  {
   "cell_type": "code",
   "execution_count": 12,
   "id": "4e47946f",
   "metadata": {},
   "outputs": [
    {
     "data": {
      "text/plain": [
       "Text(0.5, 1.0, '1')"
      ]
     },
     "execution_count": 12,
     "metadata": {},
     "output_type": "execute_result"
    },
    {
     "data": {
      "image/png": "[encoded data removed]",
      "text/plain": [
       "<Figure size 432x288 with 2 Axes>"
      ]
     },
     "metadata": {
      "needs_background": "light"
     },
     "output_type": "display_data"
    }
   ],
   "source": [
    "image, label = dataset[1236]\n",
    "plt.imshow(image[0])\n",
    "plt.colorbar()\n",
    "plt.title(label)"
   ]
  },
  {
   "cell_type": "code",
   "execution_count": 13,
   "id": "80b05868",
   "metadata": {},
   "outputs": [
    {
     "data": {
      "text/plain": [
       "torch.Size([1, 28, 28])"
      ]
     },
     "execution_count": 13,
     "metadata": {},
     "output_type": "execute_result"
    }
   ],
   "source": [
    "image.shape"
   ]
  },
  {
   "cell_type": "code",
   "execution_count": 14,
   "id": "06e4acef",
   "metadata": {},
   "outputs": [
    {
     "data": {
      "text/plain": [
       "<matplotlib.image.AxesImage at 0x7fbe706c3910>"
      ]
     },
     "execution_count": 14,
     "metadata": {},
     "output_type": "execute_result"
    },
    {
     "data": {
      "image/png": "[encoded data removed]",
      "text/plain": [
       "<Figure size 432x288 with 1 Axes>"
      ]
     },
     "metadata": {
      "needs_background": "light"
     },
     "output_type": "display_data"
    }
   ],
   "source": [
    "mnistImage, label = dataset[6]\n",
    "mnistImage = mnistImage.unsqueeze(1)\n",
    "\n",
    "#loc = torch.Tensor(2, 2).uniform_(-1, 1)\n",
    "loc = torch.from_numpy(np.array([[0.0, 0.0]]))\n",
    "\n",
    "num_patches = 4\n",
    "scale = 2\n",
    "patch_size = 8\n",
    "\n",
    "ret = Retina(g=patch_size, k=num_patches, s=scale)\n",
    "glimpse = ret.foveate(mnistImage, loc).data.numpy()\n",
    "\n",
    "\n",
    "glimpse = np.reshape(glimpse, [1, num_patches, 1, patch_size, patch_size])\n",
    "glimpse = np.transpose(glimpse, [0, 1, 3, 4, 2])\n",
    "\n",
    "\n",
    "concat_glimpse = np.concatenate([glimpse[0, i] for i in range(glimpse.shape[1])], axis=1)\n",
    "plt.imshow(concat_glimpse)"
   ]
  },
  {
   "cell_type": "code",
   "execution_count": 15,
   "id": "d3b6b414",
   "metadata": {},
   "outputs": [
    {
     "data": {
      "image/png": "[encoded data removed]",
      "text/plain": [
       "<Figure size 432x288 with 4 Axes>"
      ]
     },
     "metadata": {
      "needs_background": "light"
     },
     "output_type": "display_data"
    }
   ],
   "source": [
    "fig, axs = plt.subplots(nrows=1, ncols=glimpse.shape[1])\n",
    "for i, ax in enumerate(axs.flat):\n",
    "    axs[i].imshow(glimpse[0,i])\n",
    "    axs[i].get_xaxis().set_visible(False)\n",
    "    axs[i].get_yaxis().set_visible(False)\n",
    "plt.show()"
   ]
  },
  {
   "cell_type": "code",
   "execution_count": 16,
   "id": "e1be7b1f",
   "metadata": {},
   "outputs": [
    {
     "data": {
      "text/plain": [
       "<matplotlib.image.AxesImage at 0x7fbe70615d30>"
      ]
     },
     "execution_count": 16,
     "metadata": {},
     "output_type": "execute_result"
    },
    {
     "data": {
      "image/png": "[encoded data removed]",
      "text/plain": [
       "<Figure size 432x288 with 1 Axes>"
      ]
     },
     "metadata": {
      "needs_background": "light"
     },
     "output_type": "display_data"
    }
   ],
   "source": [
    "plt.imshow(glimpse[0,1])\n"
   ]
  },
  {
   "cell_type": "markdown",
   "id": "3c6c6156",
   "metadata": {},
   "source": [
    "# Do single episode using trained RAM model"
   ]
  },
  {
   "cell_type": "code",
   "execution_count": 17,
   "id": "59dd3fc0",
   "metadata": {},
   "outputs": [],
   "source": [
    "#load the model (code from load_checkpoint function in trainer.py):\n",
    "\n",
    "filename = \"../ckpt/ram_6_8x8_1_model_best.pth.tar\"\n",
    "\n",
    "ckpt = torch.load(filename) #model"
   ]
  },
  {
   "cell_type": "code",
   "execution_count": 18,
   "id": "15559bee",
   "metadata": {},
   "outputs": [
    {
     "name": "stdout",
     "output_type": "stream",
     "text": [
      "1 8 1 64\n"
     ]
    },
    {
     "data": {
      "text/plain": [
       "<All keys matched successfully>"
      ]
     },
     "execution_count": 18,
     "metadata": {},
     "output_type": "execute_result"
    }
   ],
   "source": [
    "# build RAM model\n",
    "config, unparsed = get_config()\n",
    "\n",
    "ram = model.RecurrentAttention(\n",
    "    config.patch_size,\n",
    "    config.num_patches,\n",
    "    config.glimpse_scale,\n",
    "    1,\n",
    "    config.loc_hidden,\n",
    "    config.glimpse_hidden,\n",
    "    config.std,\n",
    "    config.hidden_size,\n",
    "    10,\n",
    ")\n",
    "\n",
    "ram.load_state_dict(ckpt[\"model_state\"])"
   ]
  },
  {
   "cell_type": "code",
   "execution_count": 19,
   "id": "af06af27",
   "metadata": {},
   "outputs": [
    {
     "name": "stdout",
     "output_type": "stream",
     "text": [
      " Model data:\n",
      " patch size: 8\n",
      " num_patches: 1\n",
      " glimpse_scale: 1\n",
      " num_channels: 1\n",
      " loc_hidden: 128\n",
      " glimpse_hidden: 128\n",
      " std: 0.05\n",
      " hidden_size: 256\n",
      " num_classes: 10\n"
     ]
    }
   ],
   "source": [
    "print(\" Model data:\\n patch size: \" + str(config.patch_size) + \n",
    "    \"\\n num_patches: \" + str(config.num_patches)+\n",
    "    \"\\n glimpse_scale: \" + str(config.glimpse_scale)+\n",
    "    \"\\n num_channels: \" + str(1)+\n",
    "    \"\\n loc_hidden: \" + str(config.loc_hidden)+\n",
    "    \"\\n glimpse_hidden: \" + str(config.glimpse_hidden)+\n",
    "    \"\\n std: \" + str(config.std)+\n",
    "    \"\\n hidden_size: \" + str(config.hidden_size)+\n",
    "    \"\\n num_classes: \" + str(10))"
   ]
  },
  {
   "cell_type": "code",
   "execution_count": 20,
   "id": "21f66578",
   "metadata": {},
   "outputs": [
    {
     "data": {
      "text/plain": [
       "RecurrentAttention(\n",
       "  (sensor): GlimpseNetwork(\n",
       "    (fc1): Linear(in_features=64, out_features=128, bias=True)\n",
       "    (fc2): Linear(in_features=2, out_features=128, bias=True)\n",
       "    (fc3): Linear(in_features=128, out_features=256, bias=True)\n",
       "    (fc4): Linear(in_features=128, out_features=256, bias=True)\n",
       "  )\n",
       "  (rnn): CoreNetwork(\n",
       "    (i2h): Linear(in_features=256, out_features=256, bias=True)\n",
       "    (h2h): Linear(in_features=256, out_features=256, bias=True)\n",
       "  )\n",
       "  (locator): LocationNetwork(\n",
       "    (fc): Linear(in_features=256, out_features=128, bias=True)\n",
       "    (fc_lt): Linear(in_features=128, out_features=2, bias=True)\n",
       "  )\n",
       "  (classifier): ActionNetwork(\n",
       "    (fc): Linear(in_features=256, out_features=10, bias=True)\n",
       "  )\n",
       "  (baseliner): BaselineNetwork(\n",
       "    (fc): Linear(in_features=256, out_features=1, bias=True)\n",
       "  )\n",
       ")"
      ]
     },
     "execution_count": 20,
     "metadata": {},
     "output_type": "execute_result"
    }
   ],
   "source": [
    "ram"
   ]
  },
  {
   "cell_type": "code",
   "execution_count": 21,
   "id": "61de4e6b",
   "metadata": {},
   "outputs": [],
   "source": [
    "def reset():\n",
    "    h_t = torch.zeros(\n",
    "        1,\n",
    "        config.hidden_size,\n",
    "        dtype=torch.float,\n",
    "        requires_grad=True,\n",
    "    )\n",
    "    l_t = torch.FloatTensor(\n",
    "        1, 2).uniform_(-1, 1)\n",
    "    l_t.requires_grad = True\n",
    "\n",
    "    return h_t, l_t"
   ]
  },
  {
   "cell_type": "code",
   "execution_count": 22,
   "id": "8a075510",
   "metadata": {},
   "outputs": [],
   "source": [
    "#print(label)\n",
    "#print(\"shape: \" + str(mnistImage.shape))\n",
    "#plt.imshow(mnistImage[0,0], cmap=\"gray\")"
   ]
  },
  {
   "cell_type": "code",
   "execution_count": 23,
   "id": "ec0b483c",
   "metadata": {},
   "outputs": [
    {
     "name": "stdout",
     "output_type": "stream",
     "text": [
      "Prediction: 6, actual: 6\n"
     ]
    }
   ],
   "source": [
    "mnistImage, label = dataset[98]\n",
    "mnistImage = mnistImage.unsqueeze(1)\n",
    "\n",
    "#do 10 glimpses\n",
    "h_t, l_t = reset()\n",
    "\n",
    "loc_list = []\n",
    "for t in range(5):\n",
    "    # forward pass through model\n",
    "    h_t, l_t, b_t, p = ram(mnistImage, l_t, h_t)\n",
    "    loc_list.append(l_t)\n",
    "\n",
    "# last iteration\n",
    "h_t, l_t, b_t, log_probas, p = ram(mnistImage, l_t, h_t, last=True)\n",
    "\n",
    "pred = log_probas.data.max(1, keepdim=True)[1][0][0].item()\n",
    "print(\"Prediction: \" + str(pred) + \", actual: \" + str(label))"
   ]
  },
  {
   "cell_type": "code",
   "execution_count": 24,
   "id": "04650750",
   "metadata": {},
   "outputs": [
    {
     "data": {
      "image/png": "[encoded data removed]",
      "text/plain": [
       "<Figure size 432x288 with 5 Axes>"
      ]
     },
     "metadata": {
      "needs_background": "light"
     },
     "output_type": "display_data"
    }
   ],
   "source": [
    "num_patches = config.num_patches\n",
    "scale = config.glimpse_scale\n",
    "patch_size = config.patch_size\n",
    "\n",
    "glimpses = []\n",
    "for loc in loc_list:\n",
    "    ret = Retina(g=patch_size, k=num_patches, s=scale)\n",
    "    glimpse = ret.foveate(mnistImage, loc).data.numpy()\n",
    "    glimpse = np.reshape(glimpse, [1, num_patches, 1, patch_size, patch_size])\n",
    "    glimpse = np.transpose(glimpse, [0, 1, 3, 4, 2])\n",
    "    glimpses.append(glimpse)\n",
    "\n",
    "    \n",
    "fig, axs = plt.subplots(nrows=1, ncols=len(glimpses))\n",
    "for i, ax in enumerate(axs.flat):\n",
    "    axs[i].imshow(glimpses[i][0][0], cmap=\"gray\")\n",
    "    axs[i].get_xaxis().set_visible(False)\n",
    "    axs[i].get_yaxis().set_visible(False)\n",
    "plt.show()"
   ]
  },
  {
   "cell_type": "code",
   "execution_count": 25,
   "id": "cb22a450",
   "metadata": {},
   "outputs": [
    {
     "data": {
      "text/plain": [
       "<matplotlib.image.AxesImage at 0x7fbe90998310>"
      ]
     },
     "execution_count": 25,
     "metadata": {},
     "output_type": "execute_result"
    },
    {
     "data": {
      "image/png": "[encoded data removed]",
      "text/plain": [
       "<Figure size 432x288 with 1 Axes>"
      ]
     },
     "metadata": {
      "needs_background": "light"
     },
     "output_type": "display_data"
    }
   ],
   "source": [
    "plt.imshow(mnistImage[0][0], cmap=\"gray\")"
   ]
  },
  {
   "cell_type": "markdown",
   "id": "5609cc24",
   "metadata": {},
   "source": [
    "# Build RAM which has g=1"
   ]
  },
  {
   "cell_type": "code",
   "execution_count": 26,
   "id": "cb564d4a",
   "metadata": {},
   "outputs": [
    {
     "name": "stdout",
     "output_type": "stream",
     "text": [
      "1 1 1 1\n"
     ]
    }
   ],
   "source": [
    "# build RAM model\n",
    "config, unparsed = get_config()\n",
    "\n",
    "ram0 = model.RecurrentAttention(\n",
    "    1,\n",
    "    config.num_patches,\n",
    "    config.glimpse_scale,\n",
    "    1,\n",
    "    config.loc_hidden,\n",
    "    config.glimpse_hidden,\n",
    "    config.std,\n",
    "    config.hidden_size,\n",
    "    10,\n",
    ")\n"
   ]
  },
  {
   "cell_type": "code",
   "execution_count": 27,
   "id": "f6fe35d2",
   "metadata": {},
   "outputs": [
    {
     "data": {
      "text/plain": [
       "RecurrentAttention(\n",
       "  (sensor): GlimpseNetwork(\n",
       "    (fc1): Linear(in_features=1, out_features=128, bias=True)\n",
       "    (fc2): Linear(in_features=2, out_features=128, bias=True)\n",
       "    (fc3): Linear(in_features=128, out_features=256, bias=True)\n",
       "    (fc4): Linear(in_features=128, out_features=256, bias=True)\n",
       "  )\n",
       "  (rnn): CoreNetwork(\n",
       "    (i2h): Linear(in_features=256, out_features=256, bias=True)\n",
       "    (h2h): Linear(in_features=256, out_features=256, bias=True)\n",
       "  )\n",
       "  (locator): LocationNetwork(\n",
       "    (fc): Linear(in_features=256, out_features=128, bias=True)\n",
       "    (fc_lt): Linear(in_features=128, out_features=2, bias=True)\n",
       "  )\n",
       "  (classifier): ActionNetwork(\n",
       "    (fc): Linear(in_features=256, out_features=10, bias=True)\n",
       "  )\n",
       "  (baseliner): BaselineNetwork(\n",
       "    (fc): Linear(in_features=256, out_features=1, bias=True)\n",
       "  )\n",
       ")"
      ]
     },
     "execution_count": 27,
     "metadata": {},
     "output_type": "execute_result"
    }
   ],
   "source": [
    "ram0"
   ]
  },
  {
   "cell_type": "code",
   "execution_count": null,
   "id": "065449f1",
   "metadata": {},
   "outputs": [],
   "source": []
  }
 ],
 "metadata": {
  "kernelspec": {
   "display_name": "Python 3 (ipykernel)",
   "language": "python",
   "name": "python3"
  },
  "language_info": {
   "codemirror_mode": {
    "name": "ipython",
    "version": 3
   },
   "file_extension": ".py",
   "mimetype": "text/x-python",
   "name": "python",
   "nbconvert_exporter": "python",
   "pygments_lexer": "ipython3",
   "version": "3.9.12"
  }
 },
 "nbformat": 4,
 "nbformat_minor": 5
}
