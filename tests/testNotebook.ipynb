{
 "cells": [
  {
   "cell_type": "code",
   "execution_count": 1,
   "id": "a45dd914",
   "metadata": {},
   "outputs": [],
   "source": [
    "import sys\n",
    "sys.path.append(\"..\")\n",
    "\n",
    "from functools import reduce\n",
    "\n",
    "import matplotlib.patches as patches\n",
    "import matplotlib.pyplot as plt\n",
    "import numpy as np\n",
    "import torch\n",
    "from PIL import Image\n",
    "\n",
    "from modules import Retina\n",
    "from utils import array2img, img2array\n",
    "\n",
    "sys.path.append(\"..\")\n",
    "\n",
    "import torch\n",
    "\n",
    "import model\n",
    "import utils\n",
    "\n",
    "from torchvision import datasets\n",
    "from torchvision import transforms\n",
    "from torch.utils.data.sampler import SubsetRandomSampler\n",
    "\n",
    "import data_loader\n",
    "from config import get_config\n"
   ]
  },
  {
   "cell_type": "code",
   "execution_count": 2,
   "id": "504ced3d",
   "metadata": {},
   "outputs": [
    {
     "name": "stdout",
     "output_type": "stream",
     "text": [
      "torch.Size([1, 1, 28, 28])\n"
     ]
    }
   ],
   "source": [
    "# Example tensor\n",
    "x = torch.randn(128, 1, 28, 28)\n",
    "\n",
    "# Extract the first element while maintaining dimensions\n",
    "first_element = x[0:1, :, :, :]\n",
    "\n",
    "# Verify the shape of the resulting tensor\n",
    "print(first_element.shape)  # Ou"
   ]
  },
  {
   "cell_type": "markdown",
   "id": "12ee92cb",
   "metadata": {},
   "source": [
    "# RAM model"
   ]
  },
  {
   "cell_type": "code",
   "execution_count": 4,
   "id": "8fcf5400",
   "metadata": {},
   "outputs": [
    {
     "ename": "RuntimeError",
     "evalue": "stack expects each tensor to be equal size, but got [3, 64, 64] at entry 0 and [3, 56, 64] at entry 1",
     "output_type": "error",
     "traceback": [
      "\u001b[0;31m---------------------------------------------------------------------------\u001b[0m",
      "\u001b[0;31mRuntimeError\u001b[0m                              Traceback (most recent call last)",
      "Input \u001b[0;32mIn [4]\u001b[0m, in \u001b[0;36m<cell line: 18>\u001b[0;34m()\u001b[0m\n\u001b[1;32m     15\u001b[0m h_t_prev \u001b[38;5;241m=\u001b[39m torch\u001b[38;5;241m.\u001b[39mzeros(B, \u001b[38;5;241m256\u001b[39m)\n\u001b[1;32m     17\u001b[0m ram \u001b[38;5;241m=\u001b[39m model\u001b[38;5;241m.\u001b[39mRecurrentAttention(\u001b[38;5;241m64\u001b[39m, \u001b[38;5;241m3\u001b[39m, \u001b[38;5;241m2\u001b[39m, C, \u001b[38;5;241m128\u001b[39m, \u001b[38;5;241m128\u001b[39m, \u001b[38;5;241m0.11\u001b[39m, \u001b[38;5;241m256\u001b[39m, \u001b[38;5;241m10\u001b[39m)\n\u001b[0;32m---> 18\u001b[0m h_t, l_t, _, _ \u001b[38;5;241m=\u001b[39m \u001b[43mram\u001b[49m\u001b[43m(\u001b[49m\u001b[43mimgs\u001b[49m\u001b[43m,\u001b[49m\u001b[43m \u001b[49m\u001b[43ml_t_prev\u001b[49m\u001b[43m,\u001b[49m\u001b[43m \u001b[49m\u001b[43mh_t_prev\u001b[49m\u001b[43m)\u001b[49m\n\u001b[1;32m     20\u001b[0m \u001b[38;5;28;01massert\u001b[39;00m h_t\u001b[38;5;241m.\u001b[39mshape \u001b[38;5;241m==\u001b[39m (B, \u001b[38;5;241m256\u001b[39m)\n\u001b[1;32m     21\u001b[0m \u001b[38;5;28;01massert\u001b[39;00m l_t\u001b[38;5;241m.\u001b[39mshape \u001b[38;5;241m==\u001b[39m (B, \u001b[38;5;241m2\u001b[39m)\n",
      "File \u001b[0;32m~/opt/anaconda3/lib/python3.9/site-packages/torch/nn/modules/module.py:1501\u001b[0m, in \u001b[0;36mModule._call_impl\u001b[0;34m(self, *args, **kwargs)\u001b[0m\n\u001b[1;32m   1496\u001b[0m \u001b[38;5;66;03m# If we don't have any hooks, we want to skip the rest of the logic in\u001b[39;00m\n\u001b[1;32m   1497\u001b[0m \u001b[38;5;66;03m# this function, and just call forward.\u001b[39;00m\n\u001b[1;32m   1498\u001b[0m \u001b[38;5;28;01mif\u001b[39;00m \u001b[38;5;129;01mnot\u001b[39;00m (\u001b[38;5;28mself\u001b[39m\u001b[38;5;241m.\u001b[39m_backward_hooks \u001b[38;5;129;01mor\u001b[39;00m \u001b[38;5;28mself\u001b[39m\u001b[38;5;241m.\u001b[39m_backward_pre_hooks \u001b[38;5;129;01mor\u001b[39;00m \u001b[38;5;28mself\u001b[39m\u001b[38;5;241m.\u001b[39m_forward_hooks \u001b[38;5;129;01mor\u001b[39;00m \u001b[38;5;28mself\u001b[39m\u001b[38;5;241m.\u001b[39m_forward_pre_hooks\n\u001b[1;32m   1499\u001b[0m         \u001b[38;5;129;01mor\u001b[39;00m _global_backward_pre_hooks \u001b[38;5;129;01mor\u001b[39;00m _global_backward_hooks\n\u001b[1;32m   1500\u001b[0m         \u001b[38;5;129;01mor\u001b[39;00m _global_forward_hooks \u001b[38;5;129;01mor\u001b[39;00m _global_forward_pre_hooks):\n\u001b[0;32m-> 1501\u001b[0m     \u001b[38;5;28;01mreturn\u001b[39;00m \u001b[43mforward_call\u001b[49m\u001b[43m(\u001b[49m\u001b[38;5;241;43m*\u001b[39;49m\u001b[43margs\u001b[49m\u001b[43m,\u001b[49m\u001b[43m \u001b[49m\u001b[38;5;241;43m*\u001b[39;49m\u001b[38;5;241;43m*\u001b[39;49m\u001b[43mkwargs\u001b[49m\u001b[43m)\u001b[49m\n\u001b[1;32m   1502\u001b[0m \u001b[38;5;66;03m# Do not call functions when jit is used\u001b[39;00m\n\u001b[1;32m   1503\u001b[0m full_backward_hooks, non_full_backward_hooks \u001b[38;5;241m=\u001b[39m [], []\n",
      "File \u001b[0;32m~/Desktop/geo/drone/Drone-RAM/tests/../model.py:79\u001b[0m, in \u001b[0;36mRecurrentAttention.forward\u001b[0;34m(self, x, l_t_prev, h_t_prev, last)\u001b[0m\n\u001b[1;32m     47\u001b[0m \u001b[38;5;28;01mdef\u001b[39;00m \u001b[38;5;21mforward\u001b[39m(\u001b[38;5;28mself\u001b[39m, x, l_t_prev, h_t_prev, last\u001b[38;5;241m=\u001b[39m\u001b[38;5;28;01mFalse\u001b[39;00m):\n\u001b[1;32m     48\u001b[0m \u001b[38;5;250m    \u001b[39m\u001b[38;5;124;03m\"\"\"Run RAM for one timestep on a minibatch of images.\u001b[39;00m\n\u001b[1;32m     49\u001b[0m \n\u001b[1;32m     50\u001b[0m \u001b[38;5;124;03m    Args:\u001b[39;00m\n\u001b[0;32m   (...)\u001b[0m\n\u001b[1;32m     77\u001b[0m \u001b[38;5;124;03m        log_pi: a vector of length (B,).\u001b[39;00m\n\u001b[1;32m     78\u001b[0m \u001b[38;5;124;03m    \"\"\"\u001b[39;00m\n\u001b[0;32m---> 79\u001b[0m     g_t \u001b[38;5;241m=\u001b[39m \u001b[38;5;28;43mself\u001b[39;49m\u001b[38;5;241;43m.\u001b[39;49m\u001b[43msensor\u001b[49m\u001b[43m(\u001b[49m\u001b[43mx\u001b[49m\u001b[43m,\u001b[49m\u001b[43m \u001b[49m\u001b[43ml_t_prev\u001b[49m\u001b[43m)\u001b[49m\n\u001b[1;32m     80\u001b[0m     h_t \u001b[38;5;241m=\u001b[39m \u001b[38;5;28mself\u001b[39m\u001b[38;5;241m.\u001b[39mrnn(g_t, h_t_prev)\n\u001b[1;32m     82\u001b[0m     log_pi, l_t \u001b[38;5;241m=\u001b[39m \u001b[38;5;28mself\u001b[39m\u001b[38;5;241m.\u001b[39mlocator(h_t)\n",
      "File \u001b[0;32m~/opt/anaconda3/lib/python3.9/site-packages/torch/nn/modules/module.py:1501\u001b[0m, in \u001b[0;36mModule._call_impl\u001b[0;34m(self, *args, **kwargs)\u001b[0m\n\u001b[1;32m   1496\u001b[0m \u001b[38;5;66;03m# If we don't have any hooks, we want to skip the rest of the logic in\u001b[39;00m\n\u001b[1;32m   1497\u001b[0m \u001b[38;5;66;03m# this function, and just call forward.\u001b[39;00m\n\u001b[1;32m   1498\u001b[0m \u001b[38;5;28;01mif\u001b[39;00m \u001b[38;5;129;01mnot\u001b[39;00m (\u001b[38;5;28mself\u001b[39m\u001b[38;5;241m.\u001b[39m_backward_hooks \u001b[38;5;129;01mor\u001b[39;00m \u001b[38;5;28mself\u001b[39m\u001b[38;5;241m.\u001b[39m_backward_pre_hooks \u001b[38;5;129;01mor\u001b[39;00m \u001b[38;5;28mself\u001b[39m\u001b[38;5;241m.\u001b[39m_forward_hooks \u001b[38;5;129;01mor\u001b[39;00m \u001b[38;5;28mself\u001b[39m\u001b[38;5;241m.\u001b[39m_forward_pre_hooks\n\u001b[1;32m   1499\u001b[0m         \u001b[38;5;129;01mor\u001b[39;00m _global_backward_pre_hooks \u001b[38;5;129;01mor\u001b[39;00m _global_backward_hooks\n\u001b[1;32m   1500\u001b[0m         \u001b[38;5;129;01mor\u001b[39;00m _global_forward_hooks \u001b[38;5;129;01mor\u001b[39;00m _global_forward_pre_hooks):\n\u001b[0;32m-> 1501\u001b[0m     \u001b[38;5;28;01mreturn\u001b[39;00m \u001b[43mforward_call\u001b[49m\u001b[43m(\u001b[49m\u001b[38;5;241;43m*\u001b[39;49m\u001b[43margs\u001b[49m\u001b[43m,\u001b[49m\u001b[43m \u001b[49m\u001b[38;5;241;43m*\u001b[39;49m\u001b[38;5;241;43m*\u001b[39;49m\u001b[43mkwargs\u001b[49m\u001b[43m)\u001b[49m\n\u001b[1;32m   1502\u001b[0m \u001b[38;5;66;03m# Do not call functions when jit is used\u001b[39;00m\n\u001b[1;32m   1503\u001b[0m full_backward_hooks, non_full_backward_hooks \u001b[38;5;241m=\u001b[39m [], []\n",
      "File \u001b[0;32m~/Desktop/geo/drone/Drone-RAM/tests/../modules.py:168\u001b[0m, in \u001b[0;36mGlimpseNetwork.forward\u001b[0;34m(self, x, l_t_prev)\u001b[0m\n\u001b[1;32m    166\u001b[0m \u001b[38;5;28;01mdef\u001b[39;00m \u001b[38;5;21mforward\u001b[39m(\u001b[38;5;28mself\u001b[39m, x, l_t_prev):\n\u001b[1;32m    167\u001b[0m     \u001b[38;5;66;03m# generate glimpse phi from image x\u001b[39;00m\n\u001b[0;32m--> 168\u001b[0m     phi \u001b[38;5;241m=\u001b[39m \u001b[38;5;28;43mself\u001b[39;49m\u001b[38;5;241;43m.\u001b[39;49m\u001b[43mretina\u001b[49m\u001b[38;5;241;43m.\u001b[39;49m\u001b[43mfoveate\u001b[49m\u001b[43m(\u001b[49m\u001b[43mx\u001b[49m\u001b[43m,\u001b[49m\u001b[43m \u001b[49m\u001b[43ml_t_prev\u001b[49m\u001b[43m)\u001b[49m\n\u001b[1;32m    170\u001b[0m     \u001b[38;5;66;03m# flatten location vector\u001b[39;00m\n\u001b[1;32m    171\u001b[0m     l_t_prev \u001b[38;5;241m=\u001b[39m l_t_prev\u001b[38;5;241m.\u001b[39mview(l_t_prev\u001b[38;5;241m.\u001b[39msize(\u001b[38;5;241m0\u001b[39m), \u001b[38;5;241m-\u001b[39m\u001b[38;5;241m1\u001b[39m)\n",
      "File \u001b[0;32m~/Desktop/geo/drone/Drone-RAM/tests/../modules.py:55\u001b[0m, in \u001b[0;36mRetina.foveate\u001b[0;34m(self, x, l)\u001b[0m\n\u001b[1;32m     53\u001b[0m \u001b[38;5;66;03m# extract k patches of increasing size\u001b[39;00m\n\u001b[1;32m     54\u001b[0m \u001b[38;5;28;01mfor\u001b[39;00m i \u001b[38;5;129;01min\u001b[39;00m \u001b[38;5;28mrange\u001b[39m(\u001b[38;5;28mself\u001b[39m\u001b[38;5;241m.\u001b[39mk):\n\u001b[0;32m---> 55\u001b[0m     phi\u001b[38;5;241m.\u001b[39mappend(\u001b[38;5;28;43mself\u001b[39;49m\u001b[38;5;241;43m.\u001b[39;49m\u001b[43mextract_patch\u001b[49m\u001b[43m(\u001b[49m\u001b[43mx\u001b[49m\u001b[43m,\u001b[49m\u001b[43m \u001b[49m\u001b[43ml\u001b[49m\u001b[43m,\u001b[49m\u001b[43m \u001b[49m\u001b[43msize\u001b[49m\u001b[43m)\u001b[49m)\n\u001b[1;32m     56\u001b[0m     size \u001b[38;5;241m=\u001b[39m \u001b[38;5;28mint\u001b[39m(\u001b[38;5;28mself\u001b[39m\u001b[38;5;241m.\u001b[39ms \u001b[38;5;241m*\u001b[39m size)\n\u001b[1;32m     58\u001b[0m \u001b[38;5;66;03m# resize the patches to squares of size g\u001b[39;00m\n",
      "File \u001b[0;32m~/Desktop/geo/drone/Drone-RAM/tests/../modules.py:94\u001b[0m, in \u001b[0;36mRetina.extract_patch\u001b[0;34m(self, x, l, size)\u001b[0m\n\u001b[1;32m     91\u001b[0m \u001b[38;5;28;01mfor\u001b[39;00m i \u001b[38;5;129;01min\u001b[39;00m \u001b[38;5;28mrange\u001b[39m(B):\n\u001b[1;32m     92\u001b[0m     patch\u001b[38;5;241m.\u001b[39mappend(\n\u001b[1;32m     93\u001b[0m         x[i, :, start[i, \u001b[38;5;241m1\u001b[39m]: end[i, \u001b[38;5;241m1\u001b[39m], start[i, \u001b[38;5;241m0\u001b[39m]: end[i, \u001b[38;5;241m0\u001b[39m]])\n\u001b[0;32m---> 94\u001b[0m \u001b[38;5;28;01mreturn\u001b[39;00m \u001b[43mtorch\u001b[49m\u001b[38;5;241;43m.\u001b[39;49m\u001b[43mstack\u001b[49m\u001b[43m(\u001b[49m\u001b[43mpatch\u001b[49m\u001b[43m)\u001b[49m\n",
      "\u001b[0;31mRuntimeError\u001b[0m: stack expects each tensor to be equal size, but got [3, 64, 64] at entry 0 and [3, 56, 64] at entry 1"
     ]
    }
   ],
   "source": [
    "# paths\n",
    "plot_dir = \"../plots/\"\n",
    "data_dir = \"../data/\"\n",
    "\n",
    "# load images\n",
    "imgs = []\n",
    "paths = [data_dir + \"./lenna.jpg\", data_dir + \"./cat.jpg\"]\n",
    "for i in range(len(paths)):\n",
    "    img = utils.img2array(paths[i], desired_size=[512, 512], expand=True)\n",
    "    imgs.append(torch.from_numpy(img))\n",
    "imgs = torch.cat(imgs).permute((0, 3, 1, 2))\n",
    "\n",
    "B, C, H, W = imgs.shape\n",
    "l_t_prev = torch.FloatTensor(B, 2).uniform_(-1, 1)\n",
    "h_t_prev = torch.zeros(B, 256)\n",
    "\n",
    "ram = model.RecurrentAttention(64, 3, 2, C, 128, 128, 0.11, 256, 10)\n",
    "h_t, l_t, _, _ = ram(imgs, l_t_prev, h_t_prev)\n",
    "\n",
    "assert h_t.shape == (B, 256)\n",
    "assert l_t.shape == (B, 2)\n"
   ]
  },
  {
   "cell_type": "code",
   "execution_count": 5,
   "id": "d4bf5d3e",
   "metadata": {
    "scrolled": true
   },
   "outputs": [
    {
     "ename": "NameError",
     "evalue": "name 'h_t' is not defined",
     "output_type": "error",
     "traceback": [
      "\u001b[0;31m---------------------------------------------------------------------------\u001b[0m",
      "\u001b[0;31mNameError\u001b[0m                                 Traceback (most recent call last)",
      "Input \u001b[0;32mIn [5]\u001b[0m, in \u001b[0;36m<cell line: 1>\u001b[0;34m()\u001b[0m\n\u001b[0;32m----> 1\u001b[0m \u001b[43mh_t\u001b[49m\u001b[38;5;241m.\u001b[39mshape\n",
      "\u001b[0;31mNameError\u001b[0m: name 'h_t' is not defined"
     ]
    }
   ],
   "source": [
    "h_t.shape"
   ]
  },
  {
   "cell_type": "code",
   "execution_count": 6,
   "id": "a9016930",
   "metadata": {},
   "outputs": [
    {
     "ename": "NameError",
     "evalue": "name 'l_t' is not defined",
     "output_type": "error",
     "traceback": [
      "\u001b[0;31m---------------------------------------------------------------------------\u001b[0m",
      "\u001b[0;31mNameError\u001b[0m                                 Traceback (most recent call last)",
      "Input \u001b[0;32mIn [6]\u001b[0m, in \u001b[0;36m<cell line: 1>\u001b[0;34m()\u001b[0m\n\u001b[0;32m----> 1\u001b[0m \u001b[43ml_t\u001b[49m\u001b[38;5;241m.\u001b[39mshape\n",
      "\u001b[0;31mNameError\u001b[0m: name 'l_t' is not defined"
     ]
    }
   ],
   "source": [
    "l_t.shape"
   ]
  },
  {
   "cell_type": "code",
   "execution_count": 7,
   "id": "34fbb380",
   "metadata": {},
   "outputs": [
    {
     "ename": "NameError",
     "evalue": "name 'l_t' is not defined",
     "output_type": "error",
     "traceback": [
      "\u001b[0;31m---------------------------------------------------------------------------\u001b[0m",
      "\u001b[0;31mNameError\u001b[0m                                 Traceback (most recent call last)",
      "Input \u001b[0;32mIn [7]\u001b[0m, in \u001b[0;36m<cell line: 1>\u001b[0;34m()\u001b[0m\n\u001b[0;32m----> 1\u001b[0m \u001b[43ml_t\u001b[49m\n",
      "\u001b[0;31mNameError\u001b[0m: name 'l_t' is not defined"
     ]
    }
   ],
   "source": [
    "l_t"
   ]
  },
  {
   "cell_type": "code",
   "execution_count": 8,
   "id": "6e5944e9",
   "metadata": {},
   "outputs": [
    {
     "data": {
      "text/plain": [
       "torch.Size([2, 256])"
      ]
     },
     "execution_count": 8,
     "metadata": {},
     "output_type": "execute_result"
    }
   ],
   "source": [
    "h_t_prev.shape"
   ]
  },
  {
   "cell_type": "markdown",
   "id": "176b50cf",
   "metadata": {},
   "source": [
    "# Glimpse Test"
   ]
  },
  {
   "cell_type": "code",
   "execution_count": 9,
   "id": "c94e4f92",
   "metadata": {
    "scrolled": true
   },
   "outputs": [
    {
     "name": "stdout",
     "output_type": "stream",
     "text": [
      "(1, 900)\n"
     ]
    },
    {
     "data": {
      "text/plain": [
       "(10, 30, 3)"
      ]
     },
     "execution_count": 9,
     "metadata": {},
     "output_type": "execute_result"
    },
    {
     "data": {
      "image/png": "[encoded data removed]",
      "text/plain": [
       "<Figure size 432x288 with 1 Axes>"
      ]
     },
     "metadata": {
      "needs_background": "light"
     },
     "output_type": "display_data"
    }
   ],
   "source": [
    "def bounding_box(x, y, size, color=\"w\"):\n",
    "    x = int(x - (size / 2))\n",
    "    y = int(y - (size / 2))\n",
    "    rect = patches.Rectangle(\n",
    "        (x, y), size, size, linewidth=1, edgecolor=color, fill=False\n",
    "    )\n",
    "    return rect\n",
    "\n",
    "\n",
    "# https://stackoverflow.com/questions/10657383/stitching-photos-together\n",
    "def merge_images(image1, image2):\n",
    "    \"\"\"Merge two images into one, displayed side by side.\n",
    "    \"\"\"\n",
    "    (width1, height1) = image1.size\n",
    "    (width2, height2) = image2.size\n",
    "\n",
    "    result_width = width1 + width2\n",
    "    result_height = max(height1, height2)\n",
    "\n",
    "    result = Image.new(\"RGB\", (result_width, result_height))\n",
    "    result.paste(im=image1, box=(0, 0))\n",
    "    result.paste(im=image2, box=(width1, 0))\n",
    "    return result\n",
    "\n",
    "\n",
    "# paths\n",
    "data_dir = \"../data/\"\n",
    "\n",
    "\n",
    "# load images\n",
    "imgs = []\n",
    "paths = [data_dir + \"./lenna.jpg\"]\n",
    "for i in range(len(paths)):\n",
    "    img = img2array(paths[i], desired_size=[512, 512], expand=True)\n",
    "    imgs.append(torch.from_numpy(img))\n",
    "imgs = torch.cat(imgs).permute(0,3, 1, 2)\n",
    "\n",
    "#loc = torch.Tensor(2, 2).uniform_(-1, 1)\n",
    "loc = torch.from_numpy(np.array([[0.0, 0.0], [0.0, 0.0]]))\n",
    "\n",
    "num_patches = 3\n",
    "scale = 4\n",
    "patch_size = 10\n",
    "\n",
    "ret = Retina(g=patch_size, k=num_patches, s=scale)\n",
    "glimpse = ret.foveate(imgs, loc).data.numpy()\n",
    "\n",
    "print(glimpse.shape)\n",
    "\n",
    "glimpse = np.reshape(glimpse, [1, num_patches, 3, patch_size, patch_size])\n",
    "glimpse = np.transpose(glimpse, [0, 1, 3, 4, 2])\n",
    "\n",
    "merged = []\n",
    "for i in range(len(glimpse)):\n",
    "    g = glimpse[i]\n",
    "    g = list(g)\n",
    "    g = [array2img(l) for l in g]\n",
    "    res = reduce(merge_images, list(g))\n",
    "    merged.append(res)\n",
    "\n",
    "merged = [np.asarray(l, dtype=\"float32\") / 255.0 for l in merged]\n",
    "\n",
    "plt.imshow(merged[0])\n",
    "\n",
    "merged[0].shape\n"
   ]
  },
  {
   "cell_type": "markdown",
   "id": "b8a2b607",
   "metadata": {},
   "source": [
    "# Glimpse Test Single MNIST Example"
   ]
  },
  {
   "cell_type": "code",
   "execution_count": 10,
   "id": "84a941ac",
   "metadata": {},
   "outputs": [],
   "source": [
    "normalize = transforms.Normalize((0.1307,), (0.3081,))\n",
    "trans = transforms.Compose([transforms.ToTensor(), normalize])\n",
    "\n",
    "dataset = datasets.MNIST(\"../data\", train=False, download=True, transform=trans)\n"
   ]
  },
  {
   "cell_type": "code",
   "execution_count": 11,
   "id": "5546c356",
   "metadata": {},
   "outputs": [
    {
     "data": {
      "text/plain": [
       "Dataset MNIST\n",
       "    Number of datapoints: 10000\n",
       "    Root location: ../data\n",
       "    Split: Test\n",
       "    StandardTransform\n",
       "Transform: Compose(\n",
       "               ToTensor()\n",
       "               Normalize(mean=(0.1307,), std=(0.3081,))\n",
       "           )"
      ]
     },
     "execution_count": 11,
     "metadata": {},
     "output_type": "execute_result"
    }
   ],
   "source": [
    "dataset"
   ]
  },
  {
   "cell_type": "code",
   "execution_count": 12,
   "id": "f43718d7",
   "metadata": {},
   "outputs": [
    {
     "name": "stdout",
     "output_type": "stream",
     "text": [
      "torch.Size([1, 28, 28])\n"
     ]
    },
    {
     "data": {
      "image/png": "[encoded data removed]",
      "text/plain": [
       "<Figure size 432x288 with 2 Axes>"
      ]
     },
     "metadata": {
      "needs_background": "light"
     },
     "output_type": "display_data"
    }
   ],
   "source": [
    "image, label = dataset[6]\n",
    "plt.imshow(image[0])\n",
    "plt.colorbar()\n",
    "plt.title(label)\n",
    "print(image.shape)"
   ]
  },
  {
   "cell_type": "code",
   "execution_count": 13,
   "id": "4e47946f",
   "metadata": {},
   "outputs": [
    {
     "data": {
      "text/plain": [
       "Text(0.5, 1.0, '1')"
      ]
     },
     "execution_count": 13,
     "metadata": {},
     "output_type": "execute_result"
    },
    {
     "data": {
      "image/png": "[encoded data removed]",
      "text/plain": [
       "<Figure size 432x288 with 2 Axes>"
      ]
     },
     "metadata": {
      "needs_background": "light"
     },
     "output_type": "display_data"
    }
   ],
   "source": [
    "image, label = dataset[1236]\n",
    "plt.imshow(image[0])\n",
    "plt.colorbar()\n",
    "plt.title(label)"
   ]
  },
  {
   "cell_type": "code",
   "execution_count": 14,
   "id": "80b05868",
   "metadata": {},
   "outputs": [
    {
     "data": {
      "text/plain": [
       "torch.Size([1, 28, 28])"
      ]
     },
     "execution_count": 14,
     "metadata": {},
     "output_type": "execute_result"
    }
   ],
   "source": [
    "image.shape"
   ]
  },
  {
   "cell_type": "code",
   "execution_count": 15,
   "id": "06e4acef",
   "metadata": {},
   "outputs": [
    {
     "data": {
      "text/plain": [
       "<matplotlib.image.AxesImage at 0x7fd562073d00>"
      ]
     },
     "execution_count": 15,
     "metadata": {},
     "output_type": "execute_result"
    },
    {
     "data": {
      "image/png": "[encoded data removed]",
      "text/plain": [
       "<Figure size 432x288 with 1 Axes>"
      ]
     },
     "metadata": {
      "needs_background": "light"
     },
     "output_type": "display_data"
    }
   ],
   "source": [
    "mnistImage, label = dataset[6]\n",
    "mnistImage = mnistImage.unsqueeze(1)\n",
    "\n",
    "#loc = torch.Tensor(2, 2).uniform_(-1, 1)\n",
    "loc = torch.from_numpy(np.array([[0.0, 0.0]]))\n",
    "\n",
    "num_patches = 4\n",
    "scale = 2\n",
    "patch_size = 8\n",
    "\n",
    "ret = Retina(g=patch_size, k=num_patches, s=scale)\n",
    "glimpse = ret.foveate(mnistImage, loc).data.numpy()\n",
    "\n",
    "\n",
    "glimpse = np.reshape(glimpse, [1, num_patches, 1, patch_size, patch_size])\n",
    "glimpse = np.transpose(glimpse, [0, 1, 3, 4, 2])\n",
    "\n",
    "\n",
    "concat_glimpse = np.concatenate([glimpse[0, i] for i in range(glimpse.shape[1])], axis=1)\n",
    "plt.imshow(concat_glimpse)"
   ]
  },
  {
   "cell_type": "code",
   "execution_count": 16,
   "id": "d3b6b414",
   "metadata": {},
   "outputs": [
    {
     "data": {
      "image/png": "[encoded data removed]",
      "text/plain": [
       "<Figure size 432x288 with 4 Axes>"
      ]
     },
     "metadata": {
      "needs_background": "light"
     },
     "output_type": "display_data"
    }
   ],
   "source": [
    "fig, axs = plt.subplots(nrows=1, ncols=glimpse.shape[1])\n",
    "for i, ax in enumerate(axs.flat):\n",
    "    axs[i].imshow(glimpse[0,i])\n",
    "    axs[i].get_xaxis().set_visible(False)\n",
    "    axs[i].get_yaxis().set_visible(False)\n",
    "plt.show()"
   ]
  },
  {
   "cell_type": "code",
   "execution_count": 17,
   "id": "e1be7b1f",
   "metadata": {},
   "outputs": [
    {
     "data": {
      "text/plain": [
       "<matplotlib.image.AxesImage at 0x7fd561f22eb0>"
      ]
     },
     "execution_count": 17,
     "metadata": {},
     "output_type": "execute_result"
    },
    {
     "data": {
      "image/png": "[encoded data removed]",
      "text/plain": [
       "<Figure size 432x288 with 1 Axes>"
      ]
     },
     "metadata": {
      "needs_background": "light"
     },
     "output_type": "display_data"
    }
   ],
   "source": [
    "plt.imshow(glimpse[0,1])\n"
   ]
  },
  {
   "cell_type": "markdown",
   "id": "3c6c6156",
   "metadata": {},
   "source": [
    "# Do single episode using trained RAM model"
   ]
  },
  {
   "cell_type": "code",
   "execution_count": 18,
   "id": "59dd3fc0",
   "metadata": {},
   "outputs": [],
   "source": [
    "#load the model (code from load_checkpoint function in trainer.py):\n",
    "\n",
    "filename = \"../ckpt/ram_6_8x8_1_model_best.pth.tar\"\n",
    "\n",
    "ckpt = torch.load(filename) #model"
   ]
  },
  {
   "cell_type": "code",
   "execution_count": 19,
   "id": "15559bee",
   "metadata": {},
   "outputs": [
    {
     "ename": "RuntimeError",
     "evalue": "Error(s) in loading state_dict for RecurrentAttention:\n\tsize mismatch for sensor.fc1.weight: copying a param with shape torch.Size([128, 64]) from checkpoint, the shape in current model is torch.Size([128, 1]).",
     "output_type": "error",
     "traceback": [
      "\u001b[0;31m---------------------------------------------------------------------------\u001b[0m",
      "\u001b[0;31mRuntimeError\u001b[0m                              Traceback (most recent call last)",
      "Input \u001b[0;32mIn [19]\u001b[0m, in \u001b[0;36m<cell line: 16>\u001b[0;34m()\u001b[0m\n\u001b[1;32m      2\u001b[0m config, unparsed \u001b[38;5;241m=\u001b[39m get_config()\n\u001b[1;32m      4\u001b[0m ram \u001b[38;5;241m=\u001b[39m model\u001b[38;5;241m.\u001b[39mRecurrentAttention(\n\u001b[1;32m      5\u001b[0m     config\u001b[38;5;241m.\u001b[39mpatch_size,\n\u001b[1;32m      6\u001b[0m     config\u001b[38;5;241m.\u001b[39mnum_patches,\n\u001b[0;32m   (...)\u001b[0m\n\u001b[1;32m     13\u001b[0m     \u001b[38;5;241m10\u001b[39m,\n\u001b[1;32m     14\u001b[0m )\n\u001b[0;32m---> 16\u001b[0m \u001b[43mram\u001b[49m\u001b[38;5;241;43m.\u001b[39;49m\u001b[43mload_state_dict\u001b[49m\u001b[43m(\u001b[49m\u001b[43mckpt\u001b[49m\u001b[43m[\u001b[49m\u001b[38;5;124;43m\"\u001b[39;49m\u001b[38;5;124;43mmodel_state\u001b[39;49m\u001b[38;5;124;43m\"\u001b[39;49m\u001b[43m]\u001b[49m\u001b[43m)\u001b[49m\n",
      "File \u001b[0;32m~/opt/anaconda3/lib/python3.9/site-packages/torch/nn/modules/module.py:2041\u001b[0m, in \u001b[0;36mModule.load_state_dict\u001b[0;34m(self, state_dict, strict)\u001b[0m\n\u001b[1;32m   2036\u001b[0m         error_msgs\u001b[38;5;241m.\u001b[39minsert(\n\u001b[1;32m   2037\u001b[0m             \u001b[38;5;241m0\u001b[39m, \u001b[38;5;124m'\u001b[39m\u001b[38;5;124mMissing key(s) in state_dict: \u001b[39m\u001b[38;5;132;01m{}\u001b[39;00m\u001b[38;5;124m. \u001b[39m\u001b[38;5;124m'\u001b[39m\u001b[38;5;241m.\u001b[39mformat(\n\u001b[1;32m   2038\u001b[0m                 \u001b[38;5;124m'\u001b[39m\u001b[38;5;124m, \u001b[39m\u001b[38;5;124m'\u001b[39m\u001b[38;5;241m.\u001b[39mjoin(\u001b[38;5;124m'\u001b[39m\u001b[38;5;124m\"\u001b[39m\u001b[38;5;132;01m{}\u001b[39;00m\u001b[38;5;124m\"\u001b[39m\u001b[38;5;124m'\u001b[39m\u001b[38;5;241m.\u001b[39mformat(k) \u001b[38;5;28;01mfor\u001b[39;00m k \u001b[38;5;129;01min\u001b[39;00m missing_keys)))\n\u001b[1;32m   2040\u001b[0m \u001b[38;5;28;01mif\u001b[39;00m \u001b[38;5;28mlen\u001b[39m(error_msgs) \u001b[38;5;241m>\u001b[39m \u001b[38;5;241m0\u001b[39m:\n\u001b[0;32m-> 2041\u001b[0m     \u001b[38;5;28;01mraise\u001b[39;00m \u001b[38;5;167;01mRuntimeError\u001b[39;00m(\u001b[38;5;124m'\u001b[39m\u001b[38;5;124mError(s) in loading state_dict for \u001b[39m\u001b[38;5;132;01m{}\u001b[39;00m\u001b[38;5;124m:\u001b[39m\u001b[38;5;130;01m\\n\u001b[39;00m\u001b[38;5;130;01m\\t\u001b[39;00m\u001b[38;5;132;01m{}\u001b[39;00m\u001b[38;5;124m'\u001b[39m\u001b[38;5;241m.\u001b[39mformat(\n\u001b[1;32m   2042\u001b[0m                        \u001b[38;5;28mself\u001b[39m\u001b[38;5;241m.\u001b[39m\u001b[38;5;18m__class__\u001b[39m\u001b[38;5;241m.\u001b[39m\u001b[38;5;18m__name__\u001b[39m, \u001b[38;5;124m\"\u001b[39m\u001b[38;5;130;01m\\n\u001b[39;00m\u001b[38;5;130;01m\\t\u001b[39;00m\u001b[38;5;124m\"\u001b[39m\u001b[38;5;241m.\u001b[39mjoin(error_msgs)))\n\u001b[1;32m   2043\u001b[0m \u001b[38;5;28;01mreturn\u001b[39;00m _IncompatibleKeys(missing_keys, unexpected_keys)\n",
      "\u001b[0;31mRuntimeError\u001b[0m: Error(s) in loading state_dict for RecurrentAttention:\n\tsize mismatch for sensor.fc1.weight: copying a param with shape torch.Size([128, 64]) from checkpoint, the shape in current model is torch.Size([128, 1])."
     ]
    }
   ],
   "source": [
    "# build RAM model\n",
    "config, unparsed = get_config()\n",
    "\n",
    "ram = model.RecurrentAttention(\n",
    "    config.patch_size,\n",
    "    config.num_patches,\n",
    "    config.glimpse_scale,\n",
    "    1,\n",
    "    config.loc_hidden,\n",
    "    config.glimpse_hidden,\n",
    "    config.std,\n",
    "    config.hidden_size,\n",
    "    10,\n",
    ")\n",
    "\n",
    "ram.load_state_dict(ckpt[\"model_state\"])"
   ]
  },
  {
   "cell_type": "code",
   "execution_count": null,
   "id": "af06af27",
   "metadata": {},
   "outputs": [],
   "source": [
    "print(\" Model data:\\n patch size: \" + str(config.patch_size) + \n",
    "    \"\\n num_patches: \" + str(config.num_patches)+\n",
    "    \"\\n glimpse_scale: \" + str(config.glimpse_scale)+\n",
    "    \"\\n num_channels: \" + str(1)+\n",
    "    \"\\n loc_hidden: \" + str(config.loc_hidden)+\n",
    "    \"\\n glimpse_hidden: \" + str(config.glimpse_hidden)+\n",
    "    \"\\n std: \" + str(config.std)+\n",
    "    \"\\n hidden_size: \" + str(config.hidden_size)+\n",
    "    \"\\n num_classes: \" + str(10))"
   ]
  },
  {
   "cell_type": "code",
   "execution_count": null,
   "id": "21f66578",
   "metadata": {},
   "outputs": [],
   "source": [
    "ram"
   ]
  },
  {
   "cell_type": "code",
   "execution_count": null,
   "id": "61de4e6b",
   "metadata": {},
   "outputs": [],
   "source": [
    "def reset():\n",
    "    h_t = torch.zeros(\n",
    "        1,\n",
    "        config.hidden_size,\n",
    "        dtype=torch.float,\n",
    "        requires_grad=True,\n",
    "    )\n",
    "    l_t = torch.FloatTensor(\n",
    "        1, 2).uniform_(-1, 1)\n",
    "    l_t.requires_grad = True\n",
    "\n",
    "    return h_t, l_t"
   ]
  },
  {
   "cell_type": "code",
   "execution_count": null,
   "id": "8a075510",
   "metadata": {},
   "outputs": [],
   "source": [
    "#print(label)\n",
    "#print(\"shape: \" + str(mnistImage.shape))\n",
    "#plt.imshow(mnistImage[0,0], cmap=\"gray\")"
   ]
  },
  {
   "cell_type": "code",
   "execution_count": null,
   "id": "ec0b483c",
   "metadata": {},
   "outputs": [],
   "source": [
    "mnistImage, label = dataset[98]\n",
    "mnistImage = mnistImage.unsqueeze(1)\n",
    "\n",
    "#do 10 glimpses\n",
    "h_t, l_t = reset()\n",
    "\n",
    "loc_list = []\n",
    "for t in range(5):\n",
    "    # forward pass through model\n",
    "    h_t, l_t, b_t, p = ram(mnistImage, l_t, h_t)\n",
    "    loc_list.append(l_t)\n",
    "\n",
    "# last iteration\n",
    "h_t, l_t, b_t, log_probas, p = ram(mnistImage, l_t, h_t, last=True)\n",
    "\n",
    "pred = log_probas.data.max(1, keepdim=True)[1][0][0].item()\n",
    "print(\"Prediction: \" + str(pred) + \", actual: \" + str(label))"
   ]
  },
  {
   "cell_type": "code",
   "execution_count": null,
   "id": "04650750",
   "metadata": {},
   "outputs": [],
   "source": [
    "num_patches = config.num_patches\n",
    "scale = config.glimpse_scale\n",
    "patch_size = config.patch_size\n",
    "\n",
    "glimpses = []\n",
    "for loc in loc_list:\n",
    "    ret = Retina(g=patch_size, k=num_patches, s=scale)\n",
    "    glimpse = ret.foveate(mnistImage, loc).data.numpy()\n",
    "    glimpse = np.reshape(glimpse, [1, num_patches, 1, patch_size, patch_size])\n",
    "    glimpse = np.transpose(glimpse, [0, 1, 3, 4, 2])\n",
    "    glimpses.append(glimpse)\n",
    "\n",
    "    \n",
    "fig, axs = plt.subplots(nrows=1, ncols=len(glimpses))\n",
    "for i, ax in enumerate(axs.flat):\n",
    "    axs[i].imshow(glimpses[i][0][0], cmap=\"gray\")\n",
    "    axs[i].get_xaxis().set_visible(False)\n",
    "    axs[i].get_yaxis().set_visible(False)\n",
    "plt.show()"
   ]
  },
  {
   "cell_type": "code",
   "execution_count": null,
   "id": "cb22a450",
   "metadata": {},
   "outputs": [],
   "source": [
    "plt.imshow(mnistImage[0][0], cmap=\"gray\")"
   ]
  },
  {
   "cell_type": "markdown",
   "id": "5609cc24",
   "metadata": {},
   "source": [
    "# Build RAM which has g=1"
   ]
  },
  {
   "cell_type": "code",
   "execution_count": 21,
   "id": "f8ca33bf",
   "metadata": {},
   "outputs": [
    {
     "name": "stdout",
     "output_type": "stream",
     "text": [
      " Model data:\n",
      " patch size: 1\n",
      " num_patches: 1\n",
      " glimpse_scale: 1\n",
      " num_channels: 1\n",
      " loc_hidden: 128\n",
      " glimpse_hidden: 128\n",
      " std: 0.05\n",
      " hidden_size: 256\n",
      " num_classes: 10\n"
     ]
    }
   ],
   "source": [
    "print(\" Model data:\\n patch size: \" + str(config.patch_size) + \n",
    "    \"\\n num_patches: \" + str(config.num_patches)+\n",
    "    \"\\n glimpse_scale: \" + str(config.glimpse_scale)+\n",
    "    \"\\n num_channels: \" + str(1)+\n",
    "    \"\\n loc_hidden: \" + str(config.loc_hidden)+\n",
    "    \"\\n glimpse_hidden: \" + str(config.glimpse_hidden)+\n",
    "    \"\\n std: \" + str(config.std)+\n",
    "    \"\\n hidden_size: \" + str(config.hidden_size)+\n",
    "    \"\\n num_classes: \" + str(10))"
   ]
  },
  {
   "cell_type": "code",
   "execution_count": null,
   "id": "8118f0d8",
   "metadata": {},
   "outputs": [],
   "source": []
  }
 ],
 "metadata": {
  "kernelspec": {
   "display_name": "Python 3 (ipykernel)",
   "language": "python",
   "name": "python3"
  },
  "language_info": {
   "codemirror_mode": {
    "name": "ipython",
    "version": 3
   },
   "file_extension": ".py",
   "mimetype": "text/x-python",
   "name": "python",
   "nbconvert_exporter": "python",
   "pygments_lexer": "ipython3",
   "version": "3.9.12"
  }
 },
 "nbformat": 4,
 "nbformat_minor": 5
}
