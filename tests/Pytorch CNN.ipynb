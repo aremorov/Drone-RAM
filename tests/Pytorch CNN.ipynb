{
 "cells": [
  {
   "cell_type": "code",
   "execution_count": 1,
   "id": "3e614f0f",
   "metadata": {},
   "outputs": [],
   "source": [
    "# https://www.youtube.com/watch?v=wnK3uWv_WkU\n",
    "#https://github.com/aladdinpersson/Machine-Learning-Collection"
   ]
  },
  {
   "cell_type": "code",
   "execution_count": 31,
   "id": "53b57ea6",
   "metadata": {},
   "outputs": [],
   "source": [
    "\"\"\"\n",
    "A simple walkthrough of how to code a convolutional neural network (CNN)\n",
    "using the PyTorch library. For demonstration we train it on the very\n",
    "common MNIST dataset of handwritten digits. In this code we go through\n",
    "how to create the network as well as initialize a loss function, optimizer,\n",
    "check accuracy and more.\n",
    "\n",
    "Programmed by Aladdin Persson\n",
    "* 2020-04-08: Initial coding\n",
    "* 2021-03-24: More detailed comments and small revision of the code\n",
    "* 2022-12-19: Small revision of code, checked that it works with latest PyTorch version\n",
    "\n",
    "\"\"\"\n",
    "\n",
    "# Imports\n",
    "import torch\n",
    "import torch.nn.functional as F  # Parameterless functions, like (some) activation functions\n",
    "import torchvision.datasets as datasets  # Standard datasets\n",
    "import torchvision.transforms as transforms  # Transformations we can perform on our dataset for augmentation\n",
    "from torch import optim  # For optimizers like SGD, Adam, etc.\n",
    "from torch import nn  # All neural network modules\n",
    "from torch.utils.data import (\n",
    "    DataLoader,\n",
    ")  # Gives easier dataset managment by creating mini batches etc.\n",
    "from tqdm import tqdm  # For nice progress bar!\n",
    "from torch.utils.data import Dataset, DataLoader\n",
    "import numpy as np\n",
    "\n",
    "\n",
    "# Simple CNN\n",
    "class CNN(nn.Module):\n",
    "    def __init__(self, in_channels=1, num_classes=10):\n",
    "        super(CNN, self).__init__()\n",
    "        self.conv1 = nn.Conv2d(\n",
    "            in_channels=in_channels,\n",
    "            out_channels=8,\n",
    "            kernel_size=3,\n",
    "            stride=1,\n",
    "            padding=1,\n",
    "        )\n",
    "        self.pool = nn.MaxPool2d(kernel_size=2, stride=2)\n",
    "        self.conv2 = nn.Conv2d(\n",
    "            in_channels=8,\n",
    "            out_channels=16,\n",
    "            kernel_size=3,\n",
    "            stride=1,\n",
    "            padding=1,\n",
    "        )\n",
    "        self.fc1 = nn.Linear(16 * 7 * 7, num_classes)\n",
    "\n",
    "    def forward(self, x):\n",
    "        x = F.relu(self.conv1(x))\n",
    "        x = self.pool(x)\n",
    "        x = F.relu(self.conv2(x))\n",
    "        x = self.pool(x)\n",
    "        x = x.reshape(x.shape[0], -1)\n",
    "        x = self.fc1(x)\n",
    "        return x\n",
    "\n",
    "\n",
    "# Set device\n",
    "device = torch.device(\"cuda\" if torch.cuda.is_available() else \"cpu\")\n",
    "\n"
   ]
  },
  {
   "cell_type": "code",
   "execution_count": 48,
   "id": "e1eba2c4",
   "metadata": {},
   "outputs": [],
   "source": [
    "# Hyperparameters\n",
    "in_channels = 1\n",
    "num_classes = 10\n",
    "learning_rate = 3e-4 # karpathy's constant\n",
    "batch_size = 4\n",
    "num_epochs = 3\n",
    "\n",
    "# Load Data\n",
    "train_dataset = datasets.MNIST(\n",
    "    root=\"dataset/\", train=True, transform=transforms.ToTensor(), download=True\n",
    ")\n",
    "test_dataset = datasets.MNIST(\n",
    "    root=\"dataset/\", train=False, transform=transforms.ToTensor(), download=True\n",
    ")\n",
    "train_loader = DataLoader(dataset=train_dataset, batch_size=batch_size, shuffle=True)\n",
    "test_loader = DataLoader(dataset=test_dataset, batch_size=batch_size, shuffle=True)\n",
    "\n",
    "# Initialize network\n",
    "model = CNN(in_channels=in_channels, num_classes=num_classes).to(device)\n",
    "\n",
    "# Loss and optimizer\n",
    "criterion = nn.CrossEntropyLoss()\n",
    "optimizer = optim.Adam(model.parameters(), lr=learning_rate)\n",
    "\n"
   ]
  },
  {
   "cell_type": "code",
   "execution_count": 49,
   "id": "d7420438",
   "metadata": {},
   "outputs": [
    {
     "data": {
      "text/plain": [
       "3"
      ]
     },
     "execution_count": 49,
     "metadata": {},
     "output_type": "execute_result"
    }
   ],
   "source": [
    "num_epochs"
   ]
  },
  {
   "cell_type": "code",
   "execution_count": 50,
   "id": "aca6ac85",
   "metadata": {
    "scrolled": false
   },
   "outputs": [
    {
     "name": "stderr",
     "output_type": "stream",
     "text": [
      "100%|████████████████████████████████████| 15000/15000 [00:36<00:00, 409.60it/s]\n",
      "100%|████████████████████████████████████| 15000/15000 [00:40<00:00, 369.00it/s]\n",
      "100%|████████████████████████████████████| 15000/15000 [00:40<00:00, 372.99it/s]\n"
     ]
    }
   ],
   "source": [
    "# Train Network\n",
    "for epoch in range(num_epochs):\n",
    "    for batch_idx, (data, targets) in enumerate(tqdm(train_loader)):\n",
    "        # Get data to cuda if possible\n",
    "        #data = data.to(device=device)\n",
    "        #targets = targets.to(device=device)\n",
    "\n",
    "        # forward\n",
    "        scores = model(data)\n",
    "        loss = criterion(scores, targets)\n",
    "\n",
    "        # backward\n",
    "        optimizer.zero_grad()\n",
    "        loss.backward()\n",
    "\n",
    "        # gradient descent or adam step\n",
    "        optimizer.step()\n",
    "\n"
   ]
  },
  {
   "cell_type": "code",
   "execution_count": 51,
   "id": "adb3e938",
   "metadata": {},
   "outputs": [
    {
     "name": "stdout",
     "output_type": "stream",
     "text": [
      "Accuracy on training set: 98.21\n",
      "Accuracy on test set: 97.94\n"
     ]
    }
   ],
   "source": [
    "# Check accuracy on training & test to see how good our model\n",
    "def check_accuracy(loader, model):\n",
    "    num_correct = 0\n",
    "    num_samples = 0\n",
    "    model.eval()\n",
    "\n",
    "    with torch.no_grad():\n",
    "        for x, y in loader:\n",
    "            x = x.to(device=device)\n",
    "            y = y.to(device=device)\n",
    "\n",
    "            scores = model(x)\n",
    "            _, predictions = scores.max(1)\n",
    "            num_correct += (predictions == y).sum()\n",
    "            num_samples += predictions.size(0)\n",
    "\n",
    "    model.train()\n",
    "    return num_correct / num_samples\n",
    "\n",
    "\n",
    "print(f\"Accuracy on training set: {check_accuracy(train_loader, model)*100:.2f}\")\n",
    "print(f\"Accuracy on test set: {check_accuracy(test_loader, model)*100:.2f}\")"
   ]
  },
  {
   "cell_type": "markdown",
   "id": "68f88fb1",
   "metadata": {},
   "source": [
    "# Apply to pipe/no pipe data"
   ]
  },
  {
   "cell_type": "code",
   "execution_count": 36,
   "id": "c23edcbc",
   "metadata": {},
   "outputs": [],
   "source": [
    "class CustomDataset(Dataset):\n",
    "    def __init__(self, data, labels):\n",
    "        self.data = data\n",
    "        self.labels = labels\n",
    "\n",
    "    def __len__(self):\n",
    "        return len(self.data)\n",
    "\n",
    "    def __getitem__(self, idx):\n",
    "        image = self.data[idx]\n",
    "        label = self.labels[idx]\n",
    "        return image, label\n"
   ]
  },
  {
   "cell_type": "code",
   "execution_count": 37,
   "id": "b446235d",
   "metadata": {},
   "outputs": [],
   "source": [
    "valid_size = 0.01\n",
    "shuffle = True\n",
    "random_seed = 53\n",
    "# load dataset\n",
    "loadedZeros = torch.load('../data/zeroImagesTrain.pt')\n",
    "loadedOnes = torch.load('../data/oneImagesTrain.pt')\n",
    "\n",
    "dataset01 = torch.cat((loadedZeros, loadedOnes), dim=0)\n",
    "labels01 = torch.zeros(len(loadedZeros)+len(loadedOnes))\n",
    "labels01[len(loadedOnes):] = 1\n",
    "\n",
    "torch.manual_seed(52)\n",
    "indices = torch.randperm(dataset01.size(0))\n",
    "\n",
    "data_array = dataset01[indices]\n",
    "label_array = labels01[indices].long()\n",
    "\n",
    "#    Create an instance of your custom dataset\n",
    "dataset = CustomDataset(data_array, label_array)\n",
    "\n",
    "\n",
    "train_loader = torch.utils.data.DataLoader(\n",
    "    dataset,\n",
    "    batch_size=batch_size,\n",
    ")"
   ]
  },
  {
   "cell_type": "code",
   "execution_count": 43,
   "id": "c5dba144",
   "metadata": {},
   "outputs": [
    {
     "name": "stdout",
     "output_type": "stream",
     "text": [
      "tensor(0)\n"
     ]
    }
   ],
   "source": [
    "loadedZeros = torch.load('../data/zeroImagesTest.pt')\n",
    "loadedOnes = torch.load('../data/oneImagesTest.pt')\n",
    "\n",
    "dataset01 = torch.cat((loadedZeros, loadedOnes), dim=0)\n",
    "labels01 = torch.zeros(len(loadedZeros)+len(loadedOnes))\n",
    "labels01[len(loadedOnes):] = 1\n",
    "\n",
    "torch.manual_seed(52)\n",
    "indices = torch.randperm(dataset01.size(0))\n",
    "\n",
    "data_array = dataset01[indices]\n",
    "label_array = labels01[indices].long()\n",
    "#label_array[3] = 0\n",
    "print(label_array[3])\n",
    "\n",
    "#    Create an instance of your custom dataset\n",
    "dataset = CustomDataset(data_array, label_array)\n",
    "\n",
    "test_loader = torch.utils.data.DataLoader(\n",
    "    dataset,\n",
    "    batch_size=batch_size,\n",
    ")"
   ]
  },
  {
   "cell_type": "code",
   "execution_count": 44,
   "id": "990cf238",
   "metadata": {},
   "outputs": [
    {
     "name": "stderr",
     "output_type": "stream",
     "text": [
      "100%|██████████████████████████████████████████| 50/50 [00:00<00:00, 507.01it/s]\n",
      "100%|██████████████████████████████████████████| 50/50 [00:00<00:00, 568.13it/s]\n",
      "100%|██████████████████████████████████████████| 50/50 [00:00<00:00, 553.59it/s]\n"
     ]
    }
   ],
   "source": [
    "# Train Network\n",
    "for epoch in range(num_epochs):\n",
    "    for batch_idx, (data, targets) in enumerate(tqdm(train_loader)):\n",
    "        # Get data to cuda if possible\n",
    "        #data = data.to(device=device)\n",
    "        #targets = targets.to(device=device)\n",
    "\n",
    "        # forward\n",
    "        scores = model(data)\n",
    "        loss = criterion(scores, targets)\n",
    "\n",
    "        # backward\n",
    "        optimizer.zero_grad()\n",
    "        loss.backward()\n",
    "\n",
    "        # gradient descent or adam step\n",
    "        optimizer.step()\n"
   ]
  },
  {
   "cell_type": "code",
   "execution_count": 45,
   "id": "83a30f44",
   "metadata": {},
   "outputs": [
    {
     "name": "stdout",
     "output_type": "stream",
     "text": [
      "Accuracy on training set: 100.00\n",
      "Accuracy on test set: 97.50\n"
     ]
    }
   ],
   "source": [
    "print(f\"Accuracy on training set: {check_accuracy(train_loader, model)*100:.2f}\")\n",
    "print(f\"Accuracy on test set: {check_accuracy(test_loader, model)*100:.2f}\")"
   ]
  },
  {
   "cell_type": "code",
   "execution_count": null,
   "id": "c8e52d78",
   "metadata": {},
   "outputs": [],
   "source": []
  }
 ],
 "metadata": {
  "kernelspec": {
   "display_name": "Python 3 (ipykernel)",
   "language": "python",
   "name": "python3"
  },
  "language_info": {
   "codemirror_mode": {
    "name": "ipython",
    "version": 3
   },
   "file_extension": ".py",
   "mimetype": "text/x-python",
   "name": "python",
   "nbconvert_exporter": "python",
   "pygments_lexer": "ipython3",
   "version": "3.9.12"
  }
 },
 "nbformat": 4,
 "nbformat_minor": 5
}
