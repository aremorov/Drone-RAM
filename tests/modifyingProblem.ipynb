{
 "cells": [
  {
   "cell_type": "code",
   "execution_count": 31,
   "id": "7bbbcf3f",
   "metadata": {},
   "outputs": [],
   "source": [
    "import sys\n",
    "sys.path.append(\"..\")\n",
    "\n",
    "from functools import reduce\n",
    "\n",
    "import matplotlib.patches as patches\n",
    "import matplotlib.pyplot as plt\n",
    "import numpy as np\n",
    "import torch\n",
    "from PIL import Image\n",
    "\n",
    "from modules import Retina\n",
    "from utils import array2img, img2array\n",
    "\n",
    "sys.path.append(\"..\")\n",
    "\n",
    "import torch\n",
    "\n",
    "import model\n",
    "import utils\n",
    "\n",
    "from torchvision import datasets\n",
    "from torchvision import transforms\n",
    "from torch.utils.data.sampler import SubsetRandomSampler\n",
    "\n",
    "import data_loader\n",
    "from config import get_config\n"
   ]
  },
  {
   "cell_type": "code",
   "execution_count": 2,
   "id": "9af04ee1",
   "metadata": {},
   "outputs": [
    {
     "data": {
      "text/plain": [
       "<All keys matched successfully>"
      ]
     },
     "execution_count": 2,
     "metadata": {},
     "output_type": "execute_result"
    }
   ],
   "source": [
    "#load the model (code from load_checkpoint function in trainer.py):\n",
    "\n",
    "config, unparsed = get_config()\n",
    "\n",
    "\n",
    "filename = \"../ckpt/ram_6_1x1_1_model_best.pth.tar\"\n",
    "\n",
    "ckpt = torch.load(filename) #model\n",
    "\n",
    "# build RAM model\n",
    "config, unparsed = get_config()\n",
    "\n",
    "ram0 = model.RecurrentAttention(\n",
    "    1,\n",
    "    config.num_patches,\n",
    "    config.glimpse_scale,\n",
    "    1,\n",
    "    config.loc_hidden,\n",
    "    config.glimpse_hidden,\n",
    "    config.std,\n",
    "    config.hidden_size,\n",
    "    10,\n",
    ")\n",
    "\n",
    "ram0.load_state_dict(ckpt[\"model_state\"])"
   ]
  },
  {
   "cell_type": "code",
   "execution_count": 3,
   "id": "9c3b27c9",
   "metadata": {},
   "outputs": [
    {
     "name": "stdout",
     "output_type": "stream",
     "text": [
      " Model data:\n",
      " patch size: 1\n",
      " num_patches: 1\n",
      " glimpse_scale: 1\n",
      " num_channels: 1\n",
      " loc_hidden: 128\n",
      " glimpse_hidden: 128\n",
      " std: 0.05\n",
      " hidden_size: 256\n",
      " num_classes: 10\n"
     ]
    }
   ],
   "source": [
    "print(\" Model data:\\n patch size: \" + str(config.patch_size) + \n",
    "    \"\\n num_patches: \" + str(config.num_patches)+\n",
    "    \"\\n glimpse_scale: \" + str(config.glimpse_scale)+\n",
    "    \"\\n num_channels: \" + str(1)+\n",
    "    \"\\n loc_hidden: \" + str(config.loc_hidden)+\n",
    "    \"\\n glimpse_hidden: \" + str(config.glimpse_hidden)+\n",
    "    \"\\n std: \" + str(config.std)+\n",
    "    \"\\n hidden_size: \" + str(config.hidden_size)+\n",
    "    \"\\n num_classes: \" + str(10))"
   ]
  },
  {
   "cell_type": "code",
   "execution_count": 4,
   "id": "7aeddb53",
   "metadata": {},
   "outputs": [],
   "source": [
    "def reset():\n",
    "    h_t = torch.zeros(\n",
    "        1,\n",
    "        config.hidden_size,\n",
    "        dtype=torch.float,\n",
    "        requires_grad=True,\n",
    "    )\n",
    "    l_t = torch.FloatTensor(\n",
    "        1, 2).uniform_(-1, 1)\n",
    "    l_t.requires_grad = True\n",
    "\n",
    "    return h_t, l_t"
   ]
  },
  {
   "cell_type": "code",
   "execution_count": 6,
   "id": "413b8bc2",
   "metadata": {},
   "outputs": [],
   "source": [
    "normalize = transforms.Normalize((0.1307,), (0.3081,))\n",
    "trans = transforms.Compose([transforms.ToTensor(), normalize])\n",
    "\n",
    "dataset = datasets.MNIST(\"../data\", train=False, download=True, transform=trans)\n"
   ]
  },
  {
   "cell_type": "code",
   "execution_count": 25,
   "id": "6de8114c",
   "metadata": {},
   "outputs": [
    {
     "name": "stdout",
     "output_type": "stream",
     "text": [
      "Prediction: 8, actual: 6\n"
     ]
    }
   ],
   "source": [
    "mnistImage, label = dataset[11]\n",
    "mnistImage = mnistImage.unsqueeze(1)\n",
    "\n",
    "#do 10 glimpses\n",
    "h_t, l_t = reset()\n",
    "\n",
    "loc_list = []\n",
    "for t in range(5):\n",
    "    # forward pass through model\n",
    "    h_t, l_t, b_t, p = ram0(mnistImage, l_t, h_t)\n",
    "    loc_list.append(l_t)\n",
    "\n",
    "# last iteration\n",
    "h_t, l_t, b_t, log_probas, p = ram0(mnistImage, l_t, h_t, last=True)\n",
    "\n",
    "pred = log_probas.data.max(1, keepdim=True)[1][0][0].item()\n",
    "print(\"Prediction: \" + str(pred) + \", actual: \" + str(label))"
   ]
  },
  {
   "cell_type": "code",
   "execution_count": 26,
   "id": "02b7a3a8",
   "metadata": {},
   "outputs": [
    {
     "data": {
      "image/png": "[encoded data removed]",
      "text/plain": [
       "<Figure size 432x288 with 5 Axes>"
      ]
     },
     "metadata": {
      "needs_background": "light"
     },
     "output_type": "display_data"
    }
   ],
   "source": [
    "num_patches = config.num_patches\n",
    "scale = config.glimpse_scale\n",
    "patch_size = config.patch_size\n",
    "\n",
    "glimpses = []\n",
    "for loc in loc_list:\n",
    "    ret = Retina(g=patch_size, k=num_patches, s=scale)\n",
    "    glimpse = ret.foveate(mnistImage, loc).data.numpy()\n",
    "    glimpse = np.reshape(glimpse, [1, num_patches, 1, patch_size, patch_size])\n",
    "    glimpse = np.transpose(glimpse, [0, 1, 3, 4, 2])\n",
    "    glimpses.append(glimpse)\n",
    "\n",
    "    \n",
    "fig, axs = plt.subplots(nrows=1, ncols=len(glimpses))\n",
    "for i, ax in enumerate(axs.flat):\n",
    "    axs[i].imshow(glimpses[i][0][0], cmap=\"gray\")\n",
    "    axs[i].get_xaxis().set_visible(False)\n",
    "    axs[i].get_yaxis().set_visible(False)\n",
    "plt.show()"
   ]
  },
  {
   "cell_type": "code",
   "execution_count": 27,
   "id": "608eeb69",
   "metadata": {},
   "outputs": [
    {
     "data": {
      "text/plain": [
       "<matplotlib.image.AxesImage at 0x7fc18d6b6580>"
      ]
     },
     "execution_count": 27,
     "metadata": {},
     "output_type": "execute_result"
    },
    {
     "data": {
      "image/png": "[encoded data removed]",
      "text/plain": [
       "<Figure size 432x288 with 1 Axes>"
      ]
     },
     "metadata": {
      "needs_background": "light"
     },
     "output_type": "display_data"
    }
   ],
   "source": [
    "plt.imshow(mnistImage[0][0], cmap=\"gray\")"
   ]
  },
  {
   "cell_type": "code",
   "execution_count": 56,
   "id": "f2ca3cad",
   "metadata": {},
   "outputs": [
    {
     "data": {
      "text/plain": [
       "torch.Size([1, 28, 28])"
      ]
     },
     "execution_count": 56,
     "metadata": {},
     "output_type": "execute_result"
    }
   ],
   "source": [
    "mnistImage[0].shape"
   ]
  },
  {
   "cell_type": "markdown",
   "id": "7a464174",
   "metadata": {},
   "source": [
    "# Make intensity function at location"
   ]
  },
  {
   "cell_type": "code",
   "execution_count": 28,
   "id": "655449f6",
   "metadata": {},
   "outputs": [
    {
     "data": {
      "text/plain": [
       "torch.Size([1, 1, 28, 28])"
      ]
     },
     "execution_count": 28,
     "metadata": {},
     "output_type": "execute_result"
    }
   ],
   "source": [
    "#return form: tensor([[[-0.4242]]])\n",
    "\n",
    "#current extract patch code:\n",
    "\n",
    "      \"\"\"\n",
    "        B, C, H, W = x.shape\n",
    "\n",
    "        start = self.denormalize(H, l)\n",
    "        end = start + size\n",
    "        # pad with zeros\n",
    "        # x = F.pad(x, (size // 2, size // 2, size // 2, size // 2))\n",
    "        x = F.pad(x, (1, 1, 1, 1))\n",
    "        print(x.shape)\n",
    "\n",
    "        # loop through mini-batch and extract patches\n",
    "        patch = []\n",
    "        for i in range(B):\n",
    "            print(x[i, :, start[i, 1]: end[i, 1], start[i, 0]: end[i, 0]])\n",
    "\n",
    "            patch.append(\n",
    "                x[i, :, start[i, 1]: end[i, 1], start[i, 0]: end[i, 0]])\n",
    "        return torch.stack(patch)\n",
    "\"\"\""
   ]
  },
  {
   "cell_type": "code",
   "execution_count": 48,
   "id": "b30ed7cf",
   "metadata": {},
   "outputs": [
    {
     "data": {
      "text/plain": [
       "tensor([8, 6])"
      ]
     },
     "execution_count": 48,
     "metadata": {},
     "output_type": "execute_result"
    }
   ],
   "source": [
    "#testing denormalize function\n",
    "\n",
    "\"\"\"Convert coordinates in the range [-1, 1] to\n",
    "        coordinates in the range [0, T] where `T` is\n",
    "        the size of the image.\n",
    "        \n",
    "        return (0.5 * ((coords + 1.0) * T)).long()\n",
    "\"\"\"\n",
    "H1 = 15\n",
    "loc1 = torch.tensor([0.1, -0.09])\n",
    "Retina.denormalize(_, H1, loc1)"
   ]
  },
  {
   "cell_type": "code",
   "execution_count": 52,
   "id": "5895037f",
   "metadata": {},
   "outputs": [
    {
     "data": {
      "text/plain": [
       "tensor(4)"
      ]
     },
     "execution_count": 52,
     "metadata": {},
     "output_type": "execute_result"
    }
   ],
   "source": [
    "torch.tensor(4.3).long()"
   ]
  },
  {
   "cell_type": "code",
   "execution_count": 126,
   "id": "a3bec74a",
   "metadata": {},
   "outputs": [],
   "source": [
    "def pointCharge(r, q):\n",
    "    return -q/r**2\n",
    "\n",
    "def intensity(loc, img): #loc is tensor([index1, index2]), img is tensor with shape: (1,H,W), generally H=W\n",
    "    totalCharge = 0\n",
    "    nRows, nColumns = img.shape\n",
    "    xLoc = loc[1].item()\n",
    "    yLoc = loc[0].item()\n",
    "    for yi in range(nRows):\n",
    "        for xi in range(nColumns):\n",
    "            r2 = ((xLoc - xi) ** 2 + (yLoc - yi) ** 2)\n",
    "            if(r2 != 0):\n",
    "                pointCharge = img[yi,xi]/r2\n",
    "                totalCharge += pointCharge\n",
    "    return totalCharge\n"
   ]
  },
  {
   "cell_type": "code",
   "execution_count": 127,
   "id": "fa452afc",
   "metadata": {},
   "outputs": [
    {
     "data": {
      "text/plain": [
       "array([[ 0,  1,  2,  3,  4],\n",
       "       [ 5,  6,  7,  8,  9],\n",
       "       [10, 11, 12, 13, 14],\n",
       "       [15, 16, 17, 18, 19],\n",
       "       [20, 21, 22, 23, 24]])"
      ]
     },
     "execution_count": 127,
     "metadata": {},
     "output_type": "execute_result"
    }
   ],
   "source": [
    "img1 = np.arange(25).reshape(5,5)\n",
    "img1"
   ]
  },
  {
   "cell_type": "code",
   "execution_count": 128,
   "id": "81460711",
   "metadata": {},
   "outputs": [
    {
     "data": {
      "text/plain": [
       "4"
      ]
     },
     "execution_count": 128,
     "metadata": {},
     "output_type": "execute_result"
    }
   ],
   "source": [
    "torch.tensor([0,4])[1].item()"
   ]
  },
  {
   "cell_type": "code",
   "execution_count": 130,
   "id": "dc9dc669",
   "metadata": {},
   "outputs": [
    {
     "data": {
      "text/plain": [
       "tensor(-1.6773)"
      ]
     },
     "execution_count": 130,
     "metadata": {},
     "output_type": "execute_result"
    }
   ],
   "source": [
    "loc1 = torch.tensor([1, 6])\n",
    "\n",
    "intensity(loc1, mnistImage[0][0])"
   ]
  },
  {
   "cell_type": "code",
   "execution_count": 154,
   "id": "0b18b9e4",
   "metadata": {},
   "outputs": [
    {
     "data": {
      "text/plain": [
       "0.125"
      ]
     },
     "execution_count": 154,
     "metadata": {},
     "output_type": "execute_result"
    }
   ],
   "source": [
    "testImg1 = np.zeros([5,5])\n",
    "testImg1[0,0] = 1\n",
    "testImg1[2,2] = 0.1\n",
    "testLoc1 = torch.tensor([2,2])\n",
    "intensity(testLoc1, testImg1)"
   ]
  },
  {
   "cell_type": "code",
   "execution_count": 157,
   "id": "30919444",
   "metadata": {},
   "outputs": [
    {
     "data": {
      "text/plain": [
       "<matplotlib.colorbar.Colorbar at 0x7fc1a9a42d60>"
      ]
     },
     "execution_count": 157,
     "metadata": {},
     "output_type": "execute_result"
    },
    {
     "data": {
      "image/png": "[encoded data removed]",
      "text/plain": [
       "<Figure size 432x288 with 2 Axes>"
      ]
     },
     "metadata": {
      "needs_background": "light"
     },
     "output_type": "display_data"
    }
   ],
   "source": [
    "plt.imshow(testImg1, cmap=\"gray\")\n",
    "plt.colorbar()"
   ]
  },
  {
   "cell_type": "code",
   "execution_count": null,
   "id": "ecdebc8c",
   "metadata": {},
   "outputs": [],
   "source": []
  }
 ],
 "metadata": {
  "kernelspec": {
   "display_name": "Python 3 (ipykernel)",
   "language": "python",
   "name": "python3"
  },
  "language_info": {
   "codemirror_mode": {
    "name": "ipython",
    "version": 3
   },
   "file_extension": ".py",
   "mimetype": "text/x-python",
   "name": "python",
   "nbconvert_exporter": "python",
   "pygments_lexer": "ipython3",
   "version": "3.9.12"
  }
 },
 "nbformat": 4,
 "nbformat_minor": 5
}
