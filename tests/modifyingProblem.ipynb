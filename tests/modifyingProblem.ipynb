{
 "cells": [
  {
   "cell_type": "code",
   "execution_count": 1,
   "id": "0bc7846b",
   "metadata": {},
   "outputs": [],
   "source": [
    "import sys\n",
    "sys.path.append(\"..\")\n",
    "\n",
    "from functools import reduce\n",
    "\n",
    "import matplotlib.patches as patches\n",
    "import matplotlib.pyplot as plt\n",
    "import numpy as np\n",
    "import torch\n",
    "from PIL import Image\n",
    "\n",
    "from modules import Retina\n",
    "from utils import array2img, img2array\n",
    "\n",
    "sys.path.append(\"..\")\n",
    "\n",
    "import torch\n",
    "\n",
    "import model\n",
    "import utils\n",
    "import modules\n",
    "\n",
    "\n",
    "from torchvision import datasets\n",
    "from torchvision import transforms\n",
    "from torch.utils.data.sampler import SubsetRandomSampler\n",
    "\n",
    "import data_loader\n",
    "from config import get_config\n",
    "import torch.nn.functional as F\n",
    "\n",
    "\n",
    "from torch.distributions import Normal\n",
    "\n",
    "import torch.nn as nn\n",
    "\n",
    "from torch.utils.data import Dataset, DataLoader\n",
    "\n",
    "from torch.utils.data.sampler import SubsetRandomSampler\n"
   ]
  },
  {
   "cell_type": "code",
   "execution_count": 2,
   "id": "d0d52a39",
   "metadata": {},
   "outputs": [],
   "source": [
    "class CustomDataset(Dataset):\n",
    "    def __init__(self, data, labels):\n",
    "        self.data = data\n",
    "        self.labels = labels\n",
    "\n",
    "    def __len__(self):\n",
    "        return len(self.data)\n",
    "\n",
    "    def __getitem__(self, idx):\n",
    "        image = self.data[idx]\n",
    "        label = self.labels[idx]\n",
    "        return image, label\n"
   ]
  },
  {
   "cell_type": "code",
   "execution_count": 5,
   "id": "423f0cb4",
   "metadata": {},
   "outputs": [],
   "source": [
    "loadedZeros = torch.load('../data/zeroImagesTest.pt')\n",
    "loadedOnes = torch.load('../data/oneImagesTest.pt')\n",
    "\n",
    "dataset01 = torch.cat((loadedZeros, loadedOnes), dim=0)\n",
    "labels01 = torch.zeros(len(loadedZeros)+len(loadedOnes))\n",
    "labels01[len(loadedOnes):] = 1\n",
    "\n",
    "torch.manual_seed(52)\n",
    "indices = torch.randperm(dataset01.size(0))\n",
    "\n",
    "data_array = dataset01[indices]\n",
    "label_array = labels01[indices].long()\n",
    "\n",
    "\n",
    "#    Create an instance of your custom dataset\n",
    "dataset = CustomDataset(data_array, label_array)"
   ]
  },
  {
   "cell_type": "code",
   "execution_count": 6,
   "id": "c320530f",
   "metadata": {},
   "outputs": [
    {
     "data": {
      "text/plain": [
       "<All keys matched successfully>"
      ]
     },
     "execution_count": 6,
     "metadata": {},
     "output_type": "execute_result"
    }
   ],
   "source": [
    "#load the model (code from load_checkpoint function in trainer.py):\n",
    "\n",
    "config, unparsed = get_config()\n",
    "\n",
    "\n",
    "filename = \"../ckpt/ram_15_1x1_1_model_best.pth.tar\"\n",
    "\n",
    "ckpt = torch.load(filename) #model\n",
    "\n",
    "# build RAM model\n",
    "config, unparsed = get_config()\n",
    "\n",
    "ram0 = model.RecurrentAttention(\n",
    "    1,\n",
    "    config.num_patches,\n",
    "    config.glimpse_scale,\n",
    "    1,\n",
    "    config.loc_hidden,\n",
    "    config.glimpse_hidden,\n",
    "    config.std,\n",
    "    config.hidden_size,\n",
    "    10,\n",
    ")\n",
    "\n",
    "ram0\n",
    "ram0.load_state_dict(ckpt[\"model_state\"])"
   ]
  },
  {
   "cell_type": "code",
   "execution_count": 7,
   "id": "bf77e34e",
   "metadata": {},
   "outputs": [],
   "source": [
    "#torch.manual_seed(config.random_seed+10)"
   ]
  },
  {
   "cell_type": "code",
   "execution_count": 8,
   "id": "12947c0a",
   "metadata": {},
   "outputs": [
    {
     "name": "stdout",
     "output_type": "stream",
     "text": [
      " Model data:\n",
      " patch size: 1\n",
      " num_patches: 1\n",
      " glimpse_scale: 1\n",
      " num_channels: 1\n",
      " loc_hidden: 128\n",
      " glimpse_hidden: 128\n",
      " std: 0.05\n",
      " hidden_size: 256\n",
      " num_classes: 10\n"
     ]
    }
   ],
   "source": [
    "print(\" Model data:\\n patch size: \" + str(config.patch_size) + \n",
    "    \"\\n num_patches: \" + str(config.num_patches)+\n",
    "    \"\\n glimpse_scale: \" + str(config.glimpse_scale)+\n",
    "    \"\\n num_channels: \" + str(1)+\n",
    "    \"\\n loc_hidden: \" + str(config.loc_hidden)+\n",
    "    \"\\n glimpse_hidden: \" + str(config.glimpse_hidden)+\n",
    "    \"\\n std: \" + str(config.std)+\n",
    "    \"\\n hidden_size: \" + str(config.hidden_size)+\n",
    "    \"\\n num_classes: \" + str(10))"
   ]
  },
  {
   "cell_type": "code",
   "execution_count": 9,
   "id": "56e67855",
   "metadata": {},
   "outputs": [
    {
     "data": {
      "text/plain": [
       "RecurrentAttention(\n",
       "  (sensor): GlimpseNetwork(\n",
       "    (fc1): Linear(in_features=1, out_features=128, bias=True)\n",
       "    (fc2): Linear(in_features=2, out_features=128, bias=True)\n",
       "    (fc3): Linear(in_features=128, out_features=256, bias=True)\n",
       "    (fc4): Linear(in_features=128, out_features=256, bias=True)\n",
       "  )\n",
       "  (rnn): CoreNetwork(\n",
       "    (i2h): Linear(in_features=256, out_features=256, bias=True)\n",
       "    (h2h): Linear(in_features=256, out_features=256, bias=True)\n",
       "  )\n",
       "  (locator): LocationNetwork(\n",
       "    (fc): Linear(in_features=256, out_features=128, bias=True)\n",
       "    (fc_lt): Linear(in_features=128, out_features=4, bias=True)\n",
       "  )\n",
       "  (classifier): ActionNetwork(\n",
       "    (fc): Linear(in_features=256, out_features=10, bias=True)\n",
       "  )\n",
       "  (baseliner): BaselineNetwork(\n",
       "    (fc): Linear(in_features=256, out_features=1, bias=True)\n",
       "  )\n",
       ")"
      ]
     },
     "execution_count": 9,
     "metadata": {},
     "output_type": "execute_result"
    }
   ],
   "source": [
    "ram0"
   ]
  },
  {
   "cell_type": "code",
   "execution_count": 10,
   "id": "a39f9aa0",
   "metadata": {},
   "outputs": [
    {
     "data": {
      "text/plain": [
       "(tensor([[0., 0., 0., 0., 0., 0., 0., 0., 0., 0., 0., 0., 0., 0., 0., 0., 0., 0., 0., 0., 0., 0., 0., 0.,\n",
       "          0., 0., 0., 0., 0., 0., 0., 0., 0., 0., 0., 0., 0., 0., 0., 0., 0., 0., 0., 0., 0., 0., 0., 0.,\n",
       "          0., 0., 0., 0., 0., 0., 0., 0., 0., 0., 0., 0., 0., 0., 0., 0., 0., 0., 0., 0., 0., 0., 0., 0.,\n",
       "          0., 0., 0., 0., 0., 0., 0., 0., 0., 0., 0., 0., 0., 0., 0., 0., 0., 0., 0., 0., 0., 0., 0., 0.,\n",
       "          0., 0., 0., 0., 0., 0., 0., 0., 0., 0., 0., 0., 0., 0., 0., 0., 0., 0., 0., 0., 0., 0., 0., 0.,\n",
       "          0., 0., 0., 0., 0., 0., 0., 0., 0., 0., 0., 0., 0., 0., 0., 0., 0., 0., 0., 0., 0., 0., 0., 0.,\n",
       "          0., 0., 0., 0., 0., 0., 0., 0., 0., 0., 0., 0., 0., 0., 0., 0., 0., 0., 0., 0., 0., 0., 0., 0.,\n",
       "          0., 0., 0., 0., 0., 0., 0., 0., 0., 0., 0., 0., 0., 0., 0., 0., 0., 0., 0., 0., 0., 0., 0., 0.,\n",
       "          0., 0., 0., 0., 0., 0., 0., 0., 0., 0., 0., 0., 0., 0., 0., 0., 0., 0., 0., 0., 0., 0., 0., 0.,\n",
       "          0., 0., 0., 0., 0., 0., 0., 0., 0., 0., 0., 0., 0., 0., 0., 0., 0., 0., 0., 0., 0., 0., 0., 0.,\n",
       "          0., 0., 0., 0., 0., 0., 0., 0., 0., 0., 0., 0., 0., 0., 0., 0.]],\n",
       "        requires_grad=True),\n",
       " tensor([[0., 0.]], requires_grad=True))"
      ]
     },
     "execution_count": 10,
     "metadata": {},
     "output_type": "execute_result"
    }
   ],
   "source": [
    "def reset():\n",
    "    h_t = torch.zeros(\n",
    "        1,\n",
    "        config.hidden_size,\n",
    "        dtype=torch.float,\n",
    "        requires_grad=True,\n",
    "    )\n",
    "    # l_t = torch.FloatTensor(\n",
    "    #    self.batch_size, 2).uniform_(-1, 1).to(self.device)\n",
    "    # print(l_t)\n",
    "    l_t = torch.zeros(1, 2)\n",
    "    \n",
    "    l_t.requires_grad = True\n",
    "\n",
    "    return h_t, l_t\n",
    "\n",
    "reset()"
   ]
  },
  {
   "cell_type": "code",
   "execution_count": 11,
   "id": "b856bcc4",
   "metadata": {},
   "outputs": [
    {
     "data": {
      "text/plain": [
       "tensor([[-0.8000, -0.8000]])"
      ]
     },
     "execution_count": 11,
     "metadata": {},
     "output_type": "execute_result"
    }
   ],
   "source": [
    "l_t = torch.tensor([[-0.8,-0.8]])\n",
    "l_t\n"
   ]
  },
  {
   "cell_type": "code",
   "execution_count": 12,
   "id": "e616ebcc",
   "metadata": {},
   "outputs": [
    {
     "data": {
      "text/plain": [
       "tensor([[0., 0.]])"
      ]
     },
     "execution_count": 12,
     "metadata": {},
     "output_type": "execute_result"
    }
   ],
   "source": [
    "l_t = torch.zeros(1, 2)\n",
    "l_t"
   ]
  },
  {
   "cell_type": "code",
   "execution_count": 13,
   "id": "f2130c26",
   "metadata": {},
   "outputs": [
    {
     "data": {
      "text/plain": [
       "torch.Size([1, 28, 28])"
      ]
     },
     "execution_count": 13,
     "metadata": {},
     "output_type": "execute_result"
    }
   ],
   "source": [
    "dataset[31][0].shape"
   ]
  },
  {
   "cell_type": "code",
   "execution_count": 15,
   "id": "6112158d",
   "metadata": {},
   "outputs": [
    {
     "name": "stdout",
     "output_type": "stream",
     "text": [
      "Prediction: 1, actual: tensor(1)\n"
     ]
    }
   ],
   "source": [
    "mnistImage, label = dataset[3]\n",
    "mnistImage = mnistImage.unsqueeze(1)\n",
    "#do 5 glimpses\n",
    "h_t, l_t = reset()\n",
    "\n",
    "loc_list = []\n",
    "for t in range(15):\n",
    "    # forward pass through model\n",
    "    h_t, l_t, b_t, p = ram0(mnistImage, l_t, h_t)\n",
    "    loc_list.append(l_t)\n",
    "\n",
    "# last iteration\n",
    "h_t, l_t, b_t, log_probas, p = ram0(mnistImage, l_t, h_t, last=True)\n",
    "\n",
    "pred = log_probas.data.max(1, keepdim=True)[1][0][0].item()\n",
    "print(\"Prediction: \" + str(pred) + \", actual: \" + str(label))\n"
   ]
  },
  {
   "cell_type": "code",
   "execution_count": 16,
   "id": "a18bd609",
   "metadata": {},
   "outputs": [
    {
     "data": {
      "image/png": "[encoded data removed]",
      "text/plain": [
       "<Figure size 432x288 with 2 Axes>"
      ]
     },
     "metadata": {
      "needs_background": "light"
     },
     "output_type": "display_data"
    }
   ],
   "source": [
    "num_patches = config.num_patches\n",
    "scale = config.glimpse_scale\n",
    "patch_size = config.patch_size\n",
    "\n",
    "glimpses = []\n",
    "for loc in loc_list:\n",
    "    ret = Retina(g=1, k=num_patches, s=scale)\n",
    "    glimpse = ret.foveate(mnistImage, loc).data.numpy()\n",
    "    glimpse = np.reshape(glimpse, [1, num_patches, 1, patch_size, patch_size])\n",
    "    glimpse = np.transpose(glimpse, [0, 1, 3, 4, 2])\n",
    "    glimpses.append(glimpse)\n",
    "\n",
    "H = len(mnistImage[0][0])\n",
    "showGlimpses = np.ones((H, H))*np.nan\n",
    "\n",
    "# Update the positions with the glimpse values\n",
    "for i in range(len(glimpses)):\n",
    "    indices = Retina.denormalize(_, len(mnistImage[0][0]), loc_list[i])\n",
    "    x, y = indices.tolist()[0]\n",
    "    showGlimpses[y, x] = glimpses[i]\n",
    "\n",
    "# Plot the image using imshow\n",
    "plt.imshow(showGlimpses, cmap='viridis')\n",
    "plt.colorbar()\n",
    "plt.show()"
   ]
  },
  {
   "cell_type": "code",
   "execution_count": 17,
   "id": "56a47ece",
   "metadata": {},
   "outputs": [
    {
     "data": {
      "text/plain": [
       "<matplotlib.colorbar.Colorbar at 0x7fdb815dbb50>"
      ]
     },
     "execution_count": 17,
     "metadata": {},
     "output_type": "execute_result"
    },
    {
     "data": {
      "image/png": "[encoded data removed]",
      "text/plain": [
       "<Figure size 432x288 with 2 Axes>"
      ]
     },
     "metadata": {
      "needs_background": "light"
     },
     "output_type": "display_data"
    }
   ],
   "source": [
    "plt.imshow(mnistImage[0,0])\n",
    "plt.colorbar()"
   ]
  },
  {
   "cell_type": "code",
   "execution_count": null,
   "id": "6cdaa36b",
   "metadata": {},
   "outputs": [],
   "source": []
  },
  {
   "cell_type": "markdown",
   "id": "ff42579d",
   "metadata": {},
   "source": [
    "# Analyzing LocationNetwork, change it to generate a number between 0-3, corresponding to direction"
   ]
  },
  {
   "cell_type": "code",
   "execution_count": null,
   "id": "cb01a4c8",
   "metadata": {},
   "outputs": [],
   "source": [
    "import modules\n",
    "\n",
    "loc_net = modules.LocationNetwork(256, 2, 0.11)\n",
    "log_pi, l_t = loc_net(h_t)\n",
    "print(log_pi)\n",
    "print(l_t)"
   ]
  },
  {
   "cell_type": "code",
   "execution_count": null,
   "id": "6e245d13",
   "metadata": {},
   "outputs": [],
   "source": [
    "directions = torch.tensor([\n",
    "    [1,0],\n",
    "    [-1,0],\n",
    "    [0,1],\n",
    "    [0,-1]\n",
    "])\n",
    "mu = torch.tensor([[0.3027, 0.4452, 0.3499, 0.4361],\n",
    "        [0.3773, 0.4617, 10.4198, 0.3919],\n",
    "        [0.4046, 0.4530, 0.4341, 0.4491]])\n",
    "index = torch.multinomial(mu, num_samples=1)\n",
    "log_prob = torch.log(torch.gather(mu, 1, index))\n",
    "\n",
    "print(index)\n",
    "print(directions[index[:,0]])\n",
    "print(log_prob.shape)\n"
   ]
  },
  {
   "cell_type": "code",
   "execution_count": null,
   "id": "88e2ee5a",
   "metadata": {},
   "outputs": [],
   "source": [
    "mu = torch.tensor([0.1, 10.5, 3])\n",
    "index = torch.multinomial(mu, num_samples=1)\n",
    "index"
   ]
  },
  {
   "cell_type": "markdown",
   "id": "39bb31f1",
   "metadata": {},
   "source": [
    "# Make intensity function at location"
   ]
  },
  {
   "cell_type": "code",
   "execution_count": null,
   "id": "620f761a",
   "metadata": {},
   "outputs": [],
   "source": [
    "#testing denormalize function\n",
    "\n",
    "\"\"\"Convert coordinates in the range [-1, 1] to\n",
    "        coordinates in the range [0, T] where `T` is\n",
    "        the size of the image.\n",
    "        \n",
    "        return (0.5 * ((coords + 1.0) * T)).long()\n",
    "\"\"\"\n",
    "H1 = 15\n",
    "loc1 = torch.tensor([0.1, -0.09])\n",
    "Retina.denormalize(_, H1, loc1)"
   ]
  },
  {
   "cell_type": "code",
   "execution_count": null,
   "id": "52dc7f48",
   "metadata": {},
   "outputs": [],
   "source": [
    "torch.tensor(4.3).long()"
   ]
  },
  {
   "cell_type": "code",
   "execution_count": null,
   "id": "cf856dd5",
   "metadata": {},
   "outputs": [],
   "source": [
    "def intensity(loc, img):\n",
    "    \"\"\"\n",
    "    loc is tensor([y, x]), \n",
    "    img is tensor with shape: (1,H,W), generally H=W\n",
    "    returns intensity of 3x3 square centered about loc\n",
    "    \"\"\"\n",
    "    totalCharge = 0\n",
    "    nRows, nColumns = img.shape\n",
    "    xLoc = loc[1].item()\n",
    "    yLoc = loc[0].item()\n",
    "\n",
    "    boostedImg = torch.sub(img, torch.min(img))\n",
    "\n",
    "    for yi in range(nRows):\n",
    "        for xi in range(nColumns):\n",
    "            r2 = (xLoc - xi) ** 2 + (yLoc - yi) ** 2\n",
    "            if (r2 != 0):\n",
    "                pointCharge = boostedImg[yi, xi]/r2\n",
    "                totalCharge += pointCharge\n",
    "\n",
    "    tanhTotal = torch.tanh(totalCharge/(nRows))\n",
    "    return tanhTotal.item()\n"
   ]
  },
  {
   "cell_type": "code",
   "execution_count": null,
   "id": "648fe49e",
   "metadata": {},
   "outputs": [],
   "source": [
    "    "
   ]
  },
  {
   "cell_type": "code",
   "execution_count": null,
   "id": "cd618753",
   "metadata": {},
   "outputs": [],
   "source": [
    "testImg1 = torch.zeros([5,5])\n",
    "#testImg1[0,0] = 1\n",
    "testImg1[3,3] = 1\n",
    "#testImg1[4,3] = 1\n",
    "\n",
    "testLoc1 = torch.tensor([2,3])\n",
    "print(intensity(testLoc1, testImg1))\n",
    "\n",
    "outImg = testImg1 + 0\n",
    "outImg[testLoc1[0].item(), testLoc1[1].item()] = -1\n",
    "plt.imshow(outImg, cmap=\"gray\")\n",
    "plt.colorbar()"
   ]
  },
  {
   "cell_type": "code",
   "execution_count": null,
   "id": "669ade69",
   "metadata": {},
   "outputs": [],
   "source": [
    "testImg1[testLoc1[0]-1: testLoc1[0]+2, testLoc1[1]-1: testLoc1[1]+2]\n"
   ]
  },
  {
   "cell_type": "code",
   "execution_count": null,
   "id": "d5e4fe4b",
   "metadata": {},
   "outputs": [],
   "source": [
    "mnistImage, label = dataset[89]\n",
    "mnistImage = mnistImage.unsqueeze(1)\n",
    "\n",
    "#mnistImage = torch.ones_like(mnistImage)\n",
    "\n",
    "testLoc2 = torch.tensor([20, 14])\n",
    "\n",
    "print(intensity(testLoc2, mnistImage[0][0]))\n",
    "\n",
    "outImg = mnistImage[0][0] + 0\n",
    "outImg[testLoc2[0].item(), testLoc2[1].item()] = -4\n",
    "\n",
    "plt.imshow(outImg, cmap=\"gray\")\n",
    "plt.colorbar()"
   ]
  },
  {
   "cell_type": "code",
   "execution_count": null,
   "id": "bb61801d",
   "metadata": {},
   "outputs": [],
   "source": [
    "torch.min(mnistImage)"
   ]
  },
  {
   "cell_type": "code",
   "execution_count": null,
   "id": "83c4c536",
   "metadata": {},
   "outputs": [],
   "source": [
    "torch.max(dataset[53][0])"
   ]
  },
  {
   "cell_type": "code",
   "execution_count": null,
   "id": "7ce8a651",
   "metadata": {},
   "outputs": [],
   "source": [
    "normalize = transforms.Normalize((0.1307,), (0.3081,))\n",
    "trans = transforms.Compose([transforms.ToTensor(), normalize])\n",
    "\n",
    "\n",
    "index = 141\n",
    "minMNIST = torch.min(dataset[index][0]).item()\n",
    "maxMNIST = torch.max(dataset[index][0]).item()\n",
    "\n",
    "\n",
    "print(minMNIST)\n",
    "print(maxMNIST)"
   ]
  },
  {
   "cell_type": "code",
   "execution_count": null,
   "id": "06d4dde3",
   "metadata": {},
   "outputs": [],
   "source": [
    "#mnistImage, label = dataset[89]\n",
    "\n",
    "#mnistImage = mnistImage.unsqueeze(0)\n",
    "mnistImage = F.pad(mnistImage, (5, 5, 5, 5), value=torch.min(mnistImage))\n",
    "mnistImage.shape\n",
    "\n",
    "plt.imshow(mnistImage[0,0])"
   ]
  },
  {
   "cell_type": "code",
   "execution_count": null,
   "id": "5346d4ef",
   "metadata": {},
   "outputs": [],
   "source": [
    "random_tensor = torch.rand(10, 2)\n"
   ]
  },
  {
   "cell_type": "code",
   "execution_count": null,
   "id": "78f2d456",
   "metadata": {},
   "outputs": [],
   "source": [
    "print(random_tensor)\n",
    "torch.max(random_tensor, 1)[1]"
   ]
  },
  {
   "cell_type": "code",
   "execution_count": null,
   "id": "248d3722",
   "metadata": {},
   "outputs": [],
   "source": [
    "torch.max(random_tensor, 1)"
   ]
  },
  {
   "cell_type": "markdown",
   "id": "6f1dfc46",
   "metadata": {},
   "source": [
    "TMI"
   ]
  },
  {
   "cell_type": "markdown",
   "id": "cf14d90e",
   "metadata": {},
   "source": [
    "# Working on generating dataset"
   ]
  },
  {
   "cell_type": "code",
   "execution_count": null,
   "id": "e4d70ea1",
   "metadata": {},
   "outputs": [],
   "source": [
    "normalize = transforms.Normalize((0.1307,), (0.3081,))\n",
    "trans = transforms.Compose([transforms.ToTensor(), normalize])\n",
    "\n",
    "dataset = datasets.MNIST(\"../data\", download = False, transform=trans)\n",
    "mnistImage, label = dataset[211]\n",
    "mnistImage = mnistImage.unsqueeze(1)"
   ]
  },
  {
   "cell_type": "code",
   "execution_count": null,
   "id": "3eda4aa9",
   "metadata": {},
   "outputs": [],
   "source": [
    "len(dataset)"
   ]
  },
  {
   "cell_type": "code",
   "execution_count": null,
   "id": "9eb8c6f7",
   "metadata": {},
   "outputs": [],
   "source": [
    "type(dataset)"
   ]
  },
  {
   "cell_type": "code",
   "execution_count": null,
   "id": "ea35b432",
   "metadata": {},
   "outputs": [],
   "source": [
    "dataset"
   ]
  },
  {
   "cell_type": "code",
   "execution_count": null,
   "id": "fed9252e",
   "metadata": {},
   "outputs": [],
   "source": [
    "zeroImages = []\n",
    "oneImages = []\n",
    "\n",
    "for i in range(1000):\n",
    "    if(dataset[i][1] == 0):\n",
    "        zeroImages.append(dataset[i][0])\n",
    "    if(dataset[i][1] == 1):\n",
    "        oneImages.append(dataset[i][0])\n",
    "        \n",
    "zeroImages = torch.stack(zeroImages)\n",
    "oneImages = torch.stack(oneImages)"
   ]
  },
  {
   "cell_type": "code",
   "execution_count": null,
   "id": "79a323ae",
   "metadata": {},
   "outputs": [],
   "source": [
    "plt.imshow(oneImages[10, 0])"
   ]
  },
  {
   "cell_type": "code",
   "execution_count": null,
   "id": "a1531cf4",
   "metadata": {},
   "outputs": [],
   "source": [
    "plt.imshow(zeroImages[3, 0])"
   ]
  },
  {
   "cell_type": "code",
   "execution_count": null,
   "id": "acccd425",
   "metadata": {},
   "outputs": [],
   "source": [
    "zeroImages.shape"
   ]
  },
  {
   "cell_type": "code",
   "execution_count": null,
   "id": "437eebbe",
   "metadata": {},
   "outputs": [],
   "source": [
    "print(zeroImages.dtype)"
   ]
  },
  {
   "cell_type": "code",
   "execution_count": null,
   "id": "2bf78375",
   "metadata": {},
   "outputs": [],
   "source": [
    "\"\"\"\n",
    "#convert to torch.tensor and save null as zero, single pipe as ones\n",
    "torch.save(zeroImagesTrain, '../data/zeroImagesTrain.pt')\n",
    "torch.save(oneImagesTrain, '../data/oneImagesTrain.pt')\n",
    "\n",
    "torch.save(zeroImagesTest, '../data/zeroImagesTest.pt')\n",
    "torch.save(oneImagesTest, '../data/oneImagesTest.pt')\n",
    "\n",
    "\"\"\""
   ]
  },
  {
   "cell_type": "code",
   "execution_count": null,
   "id": "d2576f55",
   "metadata": {},
   "outputs": [],
   "source": [
    "print(len(oneImages))"
   ]
  },
  {
   "cell_type": "code",
   "execution_count": null,
   "id": "a19418ea",
   "metadata": {},
   "outputs": [],
   "source": [
    "a1 = torch.tensor([1,2,3,4,5])\n",
    "b1 = torch.tensor([6,7,8,9,10])\n"
   ]
  },
  {
   "cell_type": "code",
   "execution_count": null,
   "id": "2666c17c",
   "metadata": {},
   "outputs": [],
   "source": [
    "dataset01 = torch.cat((zeroImages, oneImages), dim=0)\n",
    "labels01 = torch.zeros(len(zeroImages)+len(oneImages))\n",
    "labels01[len(oneImages):] = 1"
   ]
  },
  {
   "cell_type": "code",
   "execution_count": null,
   "id": "b624cfec",
   "metadata": {},
   "outputs": [],
   "source": [
    "dataset01.size(0)"
   ]
  },
  {
   "cell_type": "code",
   "execution_count": null,
   "id": "efc7c0c7",
   "metadata": {},
   "outputs": [],
   "source": [
    "torch.manual_seed(52)\n",
    "indices = torch.randperm(dataset01.size(0))"
   ]
  },
  {
   "cell_type": "code",
   "execution_count": null,
   "id": "6ea4f97d",
   "metadata": {},
   "outputs": [],
   "source": [
    "len(dataset01)"
   ]
  },
  {
   "cell_type": "code",
   "execution_count": null,
   "id": "87bf399e",
   "metadata": {},
   "outputs": [],
   "source": [
    "# Assuming you have your data and labels as NumPy arrays\n",
    "data_array = dataset01[indices]  # Shape: (10000, 28, 28)\n",
    "label_array = labels01[indices] # Shape: (10000,)\n",
    "\n",
    "# Create an instance of your custom dataset\n",
    "dataset = CustomDataset(data_array, label_array)"
   ]
  },
  {
   "cell_type": "code",
   "execution_count": null,
   "id": "67774973",
   "metadata": {},
   "outputs": [],
   "source": [
    "plt.imshow(dataset[39][0][0])"
   ]
  },
  {
   "cell_type": "code",
   "execution_count": null,
   "id": "be7f9078",
   "metadata": {},
   "outputs": [],
   "source": [
    "dataset01.shape"
   ]
  },
  {
   "cell_type": "code",
   "execution_count": null,
   "id": "0d049dd7",
   "metadata": {},
   "outputs": [],
   "source": [
    "#try with model:\n",
    "\n",
    "mnistImage, label = dataset[211]\n",
    "mnistImage = mnistImage.unsqueeze(1)\n",
    "\n",
    "#do 5 glimpses\n",
    "h_t, l_t = reset()\n",
    "\n",
    "loc_list = []\n",
    "for t in range(15):\n",
    "    # forward pass through model\n",
    "    h_t, l_t, b_t, p = ram0(mnistImage, l_t, h_t)\n",
    "    loc_list.append(l_t)\n",
    "\n",
    "# last iteration\n",
    "h_t, l_t, b_t, log_probas, p = ram0(mnistImage, l_t, h_t, last=True)\n",
    "\n",
    "pred = log_probas.data.max(1, keepdim=True)[1][0][0].item()\n",
    "print(\"Prediction: \" + str(pred) + \", actual: \" + str(label))\n"
   ]
  },
  {
   "cell_type": "code",
   "execution_count": null,
   "id": "a940f7c1",
   "metadata": {},
   "outputs": [],
   "source": [
    "valid_size=0.1\n",
    "shuffle=True\n",
    "random_seed = 157\n",
    "batch_size=32\n",
    "num_workers = 4\n",
    "pin_memory=False\n",
    "dataset = dataset01\n",
    "num_train = len(dataset)\n",
    "indices = list(range(num_train))\n",
    "split = int(np.floor(valid_size * num_train))\n",
    "\n",
    "if shuffle:\n",
    "    np.random.seed(random_seed)\n",
    "    np.random.shuffle(indices)\n",
    "\n",
    "train_idx, valid_idx = indices[split:], indices[:split]\n",
    "\n",
    "train_sampler = SubsetRandomSampler(train_idx)\n",
    "valid_sampler = SubsetRandomSampler(valid_idx)\n",
    "\n",
    "train_loader = torch.utils.data.DataLoader(\n",
    "    dataset,\n",
    "    batch_size=batch_size,\n",
    "    sampler=train_sampler,\n",
    "    num_workers=num_workers,\n",
    "    pin_memory=pin_memory,\n",
    ")\n"
   ]
  },
  {
   "cell_type": "code",
   "execution_count": null,
   "id": "1c6ca21d",
   "metadata": {},
   "outputs": [],
   "source": []
  }
 ],
 "metadata": {
  "kernelspec": {
   "display_name": "Python 3 (ipykernel)",
   "language": "python",
   "name": "python3"
  },
  "language_info": {
   "codemirror_mode": {
    "name": "ipython",
    "version": 3
   },
   "file_extension": ".py",
   "mimetype": "text/x-python",
   "name": "python",
   "nbconvert_exporter": "python",
   "pygments_lexer": "ipython3",
   "version": "3.9.12"
  }
 },
 "nbformat": 4,
 "nbformat_minor": 5
}
